{
 "cells": [
  {
   "cell_type": "markdown",
   "metadata": {},
   "source": [
    "# Minority Game Basic\n"
   ]
  },
  {
   "cell_type": "code",
   "execution_count": 15,
   "metadata": {},
   "outputs": [],
   "source": [
    "import numpy as np\n",
    "import networkx as nx\n",
    "import random\n",
    "import matplotlib.pyplot as plt\n",
    "import matplotlib.ticker as ticker\n",
    "%matplotlib inline"
   ]
  },
  {
   "cell_type": "markdown",
   "metadata": {},
   "source": [
    "## Helper functions"
   ]
  },
  {
   "cell_type": "code",
   "execution_count": 42,
   "metadata": {},
   "outputs": [],
   "source": [
    "def integer_state(history):\n",
    "    \"\"\"\n",
    "    maps a list of m combinations of 1s and -1s to a unique number\n",
    "    INPUT| a list of the last m outputs of the game\n",
    "    OUTPUT| a unique integer\n",
    "    \"\"\"\n",
    "    state = 0\n",
    "    p = len(history)-1\n",
    "    for i in history:\n",
    "        if i == 1:\n",
    "            state += 2**p\n",
    "        p -= 1\n",
    "    return state\n",
    "def maximum_index(score):\n",
    "    \"\"\"\n",
    "    Returns the index of the maximum score (if more than one max, selects randomly)\n",
    "    \"\"\"\n",
    "    maximos = np.argwhere(score == np.amax(score)).flatten()\n",
    "    return np.random.choice(maximos)\n",
    "\n",
    "def minority(A):\n",
    "    \"\"\"\n",
    "    Return the winner action\n",
    "    \"\"\"\n",
    "    if A < 0:\n",
    "        return 1\n",
    "    elif A > 0:\n",
    "        return -1\n",
    "    else:\n",
    "        return 2*random.randint(0, 1)-1\n",
    "\n",
    "def update_scores(N, S, A, strategies, state, scores, winner):\n",
    "    for n in range(N):\n",
    "        for s in range(S):\n",
    "            if strategies[n][s][state] == winner:\n",
    "                scores[n][s] += 1  # g[A(t)] = sign(A(t))\n",
    "                #scores[n][s] += A\n",
    "            else:\n",
    "                scores[n][s] -= 1  # g[A(t)] = sign(A(t))\n",
    "                #scores[n][s] += A\n",
    "    return scores\n",
    "\n",
    "def one_game(N, S, strategies, history, scores):\n",
    "    actions = np.zeros(N)\n",
    "    state = integer_state(history)\n",
    "    for i in range(N):\n",
    "        index_strategy = maximum_index(scores[i])\n",
    "        actions[i] = strategies[i][index_strategy][state]\n",
    "    A = np.sum(actions)\n",
    "    winner = minority(A)\n",
    "    scores = update_scores(N, S, A, strategies, state, scores, winner)\n",
    "    history = np.concatenate((history[1:], [winner]))\n",
    "    return A, history, scores\n",
    "\n",
    "def one_simulation(N, S, M, T, imprime=10**8):\n",
    "    history = 2*np.random.randint(2, size=M)-1\n",
    "    strategies = 2*np.random.randint(2, size=(N, S, 2**M))-1\n",
    "    scores = np.zeros((N, S))\n",
    "    attendances = np.zeros(T)\n",
    "    times = np.zeros(T)\n",
    "    meanA = np.zeros(T)  # to control the convergence\n",
    "    # simulation\n",
    "    for t in range(T):\n",
    "        if (t+1) % imprime == 0:\n",
    "            print('         t={}/{}'.format(t+1, T))\n",
    "        A, history, scores = one_game(N, S, strategies, history, scores)\n",
    "        times[t] = t\n",
    "        attendances[t] = A\n",
    "        meanA[t] = np.mean(attendances[:t+1])  # mean of the attendance so far\n",
    "    return times, attendances, meanA\n"
   ]
  },
  {
   "cell_type": "code",
   "execution_count": 43,
   "metadata": {},
   "outputs": [
    {
     "name": "stdout",
     "output_type": "stream",
     "text": [
      "         t=500/5000\n",
      "         t=1000/5000\n",
      "         t=1500/5000\n",
      "         t=2000/5000\n",
      "         t=2500/5000\n",
      "         t=3000/5000\n",
      "         t=3500/5000\n",
      "         t=4000/5000\n",
      "         t=4500/5000\n",
      "         t=5000/5000\n"
     ]
    }
   ],
   "source": [
    "N1 = 501 #num of agents\n",
    "S1 = 2 #strategy\n",
    "M1 = 3 #memory\n",
    "times, attendances, meanA = one_simulation(N1, S1, M1, T=5000, imprime = 500)"
   ]
  },
  {
   "cell_type": "code",
   "execution_count": 50,
   "metadata": {},
   "outputs": [
    {
     "name": "stdout",
     "output_type": "stream",
     "text": [
      "[ 1 -1  1]\n",
      "[[[-1 -1  1 ...  1  1  1]\n",
      "  [-1 -1  1 ... -1 -1  1]]\n",
      "\n",
      " [[-1 -1 -1 ...  1  1  1]\n",
      "  [ 1 -1 -1 ... -1  1  1]]\n",
      "\n",
      " [[-1  1  1 ...  1  1 -1]\n",
      "  [ 1  1  1 ... -1 -1 -1]]\n",
      "\n",
      " ...\n",
      "\n",
      " [[ 1 -1 -1 ...  1 -1 -1]\n",
      "  [-1 -1  1 ...  1  1  1]]\n",
      "\n",
      " [[-1 -1  1 ... -1 -1  1]\n",
      "  [-1  1 -1 ... -1 -1 -1]]\n",
      "\n",
      " [[ 1  1 -1 ... -1 -1 -1]\n",
      "  [ 1 -1 -1 ... -1 -1  1]]]\n"
     ]
    }
   ],
   "source": [
    "history = 2*np.random.randint(2, size=M1)-1\n",
    "strategies = 2*np.random.randint(2, size=(N1, S1, 2**M1))-1\n",
    "print(history)\n",
    "print(strategies)"
   ]
  },
  {
   "cell_type": "code",
   "execution_count": 45,
   "metadata": {},
   "outputs": [
    {
     "data": {
      "text/plain": [
       "Text(0, 0.5, '<A(t)>')"
      ]
     },
     "execution_count": 45,
     "metadata": {},
     "output_type": "execute_result"
    },
    {
     "data": {
      "image/png": "[encoded data removed]",
      "text/plain": [
       "<Figure size 864x432 with 1 Axes>"
      ]
     },
     "metadata": {
      "needs_background": "light"
     },
     "output_type": "display_data"
    }
   ],
   "source": [
    "fig, ax = plt.subplots(figsize = (12,6))\n",
    "\n",
    "ax.axhline(y=0, color='k', linestyle='--')\n",
    "ax.plot(times, meanA, '-', label = r'$<A(t)>$')\n",
    "ax.set_xlabel('t')\n",
    "ax.set_ylabel('<A(t)>')"
   ]
  },
  {
   "cell_type": "code",
   "execution_count": null,
   "metadata": {},
   "outputs": [],
   "source": []
  }
 ],
 "metadata": {
  "kernelspec": {
   "display_name": "Python 3",
   "language": "python",
   "name": "python3"
  },
  "language_info": {
   "codemirror_mode": {
    "name": "ipython",
    "version": 3
   },
   "file_extension": ".py",
   "mimetype": "text/x-python",
   "name": "python",
   "nbconvert_exporter": "python",
   "pygments_lexer": "ipython3",
   "version": "3.7.0"
  }
 },
 "nbformat": 4,
 "nbformat_minor": 2
}
