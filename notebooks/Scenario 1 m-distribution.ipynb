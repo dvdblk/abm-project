{
 "cells": [
  {
   "cell_type": "markdown",
   "metadata": {},
   "source": [
    "**Make sure to include** `import allow_local_imports` on top of every notebook in `notebooks/` dir to be able to use `lib/` modules."
   ]
  },
  {
   "cell_type": "code",
   "execution_count": 1,
   "metadata": {},
   "outputs": [],
   "source": [
    "import allow_local_imports"
   ]
  },
  {
   "cell_type": "code",
   "execution_count": 2,
   "metadata": {},
   "outputs": [],
   "source": [
    "from lib.minority_game import MinorityGame, MinorityGameIndividualAgents\n",
    "from lib.agents.agent import Agent, StrategyUpdatingAgent\n",
    "from lib.agents.factory import AgentFactory\n",
    "from lib.strategies import AlwaysOneStrategy, DefaultStrategy, FiftyFiftyStrategy\n",
    "from lib.memory import UniformMemoryGenerator, GumbelDistributionMemoryGenerator, NormalDistributionMemoryGenerator\n",
    "from lib.plots import default_plot\n",
    "from lib.error import MinorityGameError"
   ]
  },
  {
   "cell_type": "code",
   "execution_count": 3,
   "metadata": {},
   "outputs": [],
   "source": [
    "import numpy as np\n",
    "import matplotlib.pyplot as plt\n",
    "from scipy.stats import norm, gamma\n",
    "import seaborn as sns\n",
    "from numpy.random import default_rng\n",
    "from numpy.lib.arraysetops import isin\n",
    "from typing import List\n",
    "import pandas as pd"
   ]
  },
  {
   "cell_type": "code",
   "execution_count": null,
   "metadata": {},
   "outputs": [],
   "source": [
    "class BaseMemoryGenerator:\n",
    "    \"\"\"\n",
    "    Abstract class that should be subclassed when implementing\n",
    "    a new memory generator.\n",
    "    \"\"\"\n",
    "    def __init__(self, m, k):\n",
    "        self.m = m\n",
    "        self.k = k # the scale\n",
    "\n",
    "    def generate(self, size):\n",
    "        raise NotImplementedError\n",
    "\n",
    "class NormalDistributionMemoryGenerator(BaseMemoryGenerator):\n",
    "    \"\"\"\n",
    "    Samples memory from a distribution\n",
    "    (Memories are distributed by normal distribution.)\n",
    "    \"\"\"\n",
    "\n",
    "    def generate(self, size):\n",
    "        rng = default_rng()\n",
    "        return rng.normal(self.m, 2, size).astype(int)+1\n",
    "class GumbelDistributionMemoryGenerator(BaseMemoryGenerator):\n",
    "    \"\"\"\n",
    "    Samples memory from a gumbel distribution.\n",
    "    (Skwed distribution of memory)\n",
    "    \"\"\"\n",
    "\n",
    "    def generate(self, size):\n",
    "        rng = default_rng()\n",
    "        return rng.gumbel(self.m, self.k, size).astype(int)+1   "
   ]
  },
  {
   "cell_type": "markdown",
   "metadata": {},
   "source": [
    "## Individual agents"
   ]
  },
  {
   "cell_type": "code",
   "execution_count": 22,
   "metadata": {},
   "outputs": [
    {
     "name": "stdout",
     "output_type": "stream",
     "text": [
      "Wall time: 4.23 s\n"
     ]
    }
   ],
   "source": [
    "%%time\n",
    "n_agents = 101\n",
    "tot_omega_u_orig = []\n",
    "tot_alpha_u_orig = []\n",
    "M = 7\n",
    "times, attendances, vol_A_t, n_agents_m, m_list, vol_A_t_individual_m_df = MinorityGameIndividualAgents(\n",
    "    n_agents=101,\n",
    "    factory_dict={\n",
    "        1: AgentFactory(\n",
    "            Agent,\n",
    "            agent_kwargs=dict(\n",
    "                strategy_clss=[DefaultStrategy,DefaultStrategy]\n",
    "            ),\n",
    "            memory_generator=UniformMemoryGenerator(M)\n",
    "        ),\n",
    "    }\n",
    ").simulate_game(max_steps=100)\n",
    "# in order to create the graph\n",
    "omega = np.average(vol_A_t)/n_agents\n",
    "alpha = 2**M/n_agents\n",
    "tot_omega_u_orig.append(omega)\n",
    "tot_alpha_u_orig.append(alpha)\n",
    "\n",
    "tot_omega_u = np.average(vol_A_t_individual_m_df)/n_agents_m['count']\n",
    "tot_alpha_u =  2**n_agents_m['index']/n_agents_m['count']"
   ]
  },
  {
   "cell_type": "markdown",
   "metadata": {},
   "source": [
    "To test that the individual agent function gives the same as the whole class when only one M value"
   ]
  },
  {
   "cell_type": "code",
   "execution_count": 23,
   "metadata": {},
   "outputs": [
    {
     "data": {
      "image/png": "[encoded data removed]",
      "text/plain": [
       "<Figure size 864x432 with 1 Axes>"
      ]
     },
     "metadata": {
      "needs_background": "light"
     },
     "output_type": "display_data"
    }
   ],
   "source": [
    "fig, ax = plt.subplots(figsize=(12, 6))\n",
    "\n",
    "ax.axhline(y=1, color=\"k\", linestyle=\"--\")\n",
    "\n",
    "ax.plot(tot_alpha_u, tot_omega_u, 'bo')\n",
    "ax.plot(tot_alpha_u_orig, tot_omega_u_orig, '>r')\n",
    "\n",
    "ax.set_xlabel(\"Alpha = $2^m/N$\")\n",
    "ax.set_ylabel(\"Volatility\")\n",
    "\n",
    "plt.title(\"MG with heterogeneous memory, s=2, N=101\")\n",
    "plt.yscale('log')\n",
    "plt.xscale('log')\n",
    "plt.xlim([0.01,100])\n",
    "plt.ylim([0.1,100])\n",
    "\n",
    "plt.show()"
   ]
  },
  {
   "cell_type": "code",
   "execution_count": 25,
   "metadata": {},
   "outputs": [
    {
     "name": "stdout",
     "output_type": "stream",
     "text": [
      "Wall time: 4.51 s\n"
     ]
    }
   ],
   "source": [
    "%%time\n",
    "n_agents = 101\n",
    "tot_omega_u_orig = []\n",
    "tot_alpha_u_orig = []\n",
    "M = 7\n",
    "times, attendances, vol_A_t, n_agents_m, m_list, vol_A_t_individual_m_df = MinorityGameIndividualAgents(\n",
    "    n_agents=101,\n",
    "    factory_dict={\n",
    "        1: AgentFactory(\n",
    "            Agent,\n",
    "            agent_kwargs=dict(\n",
    "                strategy_clss=[DefaultStrategy,DefaultStrategy]\n",
    "            ),\n",
    "            memory_generator=NormalDistributionMemoryGenerator(M, 2)\n",
    "        ),\n",
    "    }\n",
    ").simulate_game(max_steps=100)\n",
    "# in order to create the graph\n",
    "omega = np.average(vol_A_t)/n_agents\n",
    "alpha = 2**M/n_agents\n",
    "tot_omega_u_orig.append(omega)\n",
    "tot_alpha_u_orig.append(alpha)\n",
    "\n",
    "tot_omega_n = np.average(vol_A_t_individual_m_df)/n_agents_m['count']\n",
    "tot_alpha_n =  2**n_agents_m['index']/n_agents_m['count']"
   ]
  },
  {
   "cell_type": "code",
   "execution_count": 26,
   "metadata": {},
   "outputs": [
    {
     "data": {
      "image/png": "[encoded data removed]",
      "text/plain": [
       "<Figure size 864x432 with 1 Axes>"
      ]
     },
     "metadata": {
      "needs_background": "light"
     },
     "output_type": "display_data"
    }
   ],
   "source": [
    "fig, ax = plt.subplots(figsize=(12, 6))\n",
    "\n",
    "ax.axhline(y=1, color=\"k\", linestyle=\"--\")\n",
    "ax.plot(tot_alpha_n, tot_omega_n, 'bo')\n",
    "ax.set_xlabel(\"Alpha = $2^m/N$\")\n",
    "ax.set_ylabel(\"Volatility\")\n",
    "\n",
    "plt.yscale('log')\n",
    "plt.xscale('log')\n",
    "plt.xlim([0.01,1000])\n",
    "plt.ylim([0.1,1000])\n",
    "\n",
    "plt.show()"
   ]
  },
  {
   "cell_type": "code",
   "execution_count": null,
   "metadata": {},
   "outputs": [],
   "source": [
    "%%time\n",
    "n_agents = 101 \n",
    "M = 7\n",
    "max_steps = 50000\n",
    "\n",
    "# Gumbel distribution\n",
    "times, attendances, vol_A_t, n_agents_m, m_list, vol_A_t_individual_m_df = MinorityGameIndividualAgents(\n",
    "    n_agents=101,\n",
    "    factory_dict={\n",
    "        1: AgentFactory(\n",
    "            Agent,\n",
    "            agent_kwargs=dict(\n",
    "                strategy_clss=[DefaultStrategy,DefaultStrategy]\n",
    "            ),\n",
    "            memory_generator=GumbelDistributionMemoryGenerator(M, 2)\n",
    "        ),\n",
    "    }\n",
    ").simulate_game(max_steps=max_steps)\n",
    "m_list_g = n_agents_m['index']\n",
    "tot_omega_g = np.average(vol_A_t_individual_m_df)/n_agents_m['count']\n",
    "tot_alpha_g =  2**m_list_g/n_agents_m['count']\n",
    "\n",
    "#Normal distribution\n",
    "times, attendances, vol_A_t, n_agents_m, m_list, vol_A_t_individual_m_df = MinorityGameIndividualAgents(\n",
    "    n_agents=101,\n",
    "    factory_dict={\n",
    "        1: AgentFactory(\n",
    "            Agent,\n",
    "            agent_kwargs=dict(\n",
    "                strategy_clss=[DefaultStrategy,DefaultStrategy]\n",
    "            ),\n",
    "            memory_generator=NormalDistributionMemoryGenerator(M, 2)\n",
    "        ),\n",
    "    }\n",
    ").simulate_game(max_steps=max_steps)\n",
    "m_list_n = n_agents_m['index']\n",
    "tot_omega_n = np.average(vol_A_t_individual_m_df)/n_agents_m['count']\n",
    "tot_alpha_n =  2**m_list_n/n_agents_m['count']\n",
    "\n",
    "# Uniform distribution (from the standard minority game class to compare)\n",
    "tot_omega_u = []\n",
    "tot_alpha_u = []\n",
    "m_list_u = []\n",
    "for M in range (2,15):\n",
    "    times, attendances, mean_A_t, vol_A_t = MinorityGame(\n",
    "        n_agents=n_agents,\n",
    "        factory_dict={\n",
    "            1: AgentFactory(\n",
    "                Agent,\n",
    "                agent_kwargs=dict(\n",
    "                    strategy_clss=[DefaultStrategy,DefaultStrategy]\n",
    "                ),\n",
    "                memory_generator=UniformMemoryGenerator(M)\n",
    "            ),\n",
    "        }\n",
    "    ).simulate_game(max_steps=max_steps)\n",
    "    m_list_u.append(M)\n",
    "    omega = np.average(vol_A_t)/n_agents\n",
    "    alpha = 2**M/n_agents\n",
    "    tot_omega_u.append(omega)\n",
    "    tot_alpha_u.append(alpha)"
   ]
  },
  {
   "cell_type": "markdown",
   "metadata": {},
   "source": [
    "m instead of alpha"
   ]
  },
  {
   "cell_type": "code",
   "execution_count": null,
   "metadata": {},
   "outputs": [],
   "source": [
    "fig, ax = plt.subplots(figsize=(20, 8))\n",
    "\n",
    "ax.axhline(y=1, color=\"k\", linestyle=\"--\") # vol = 1 -> randomness\n",
    "\n",
    "\n",
    "ax.plot(m_list_u, tot_omega_u, 'r>', mfc = 'None', ms = 5)\n",
    "ax.plot(m_list_g, tot_omega_g, 'bo', mfc = 'None', ms = 5)\n",
    "ax.plot(m_list_n, tot_omega_n, 'Dy', mfc = 'None', ms = 5)\n",
    "\n",
    "plt.ylabel(\"Volatility $\\sigma^2/N$\",fontsize=15)\n",
    "plt.xlabel(\"$m$\",fontsize=15)\n",
    "plt.yticks(fontsize = 12)\n",
    "plt.xticks(fontsize = 12)\n",
    "\n",
    "# ax.set_xlabel(\"m\")\n",
    "# ax.set_ylabel(\"Volatility $\\sigma^2/N$\")\n",
    "ax.legend([\"randomness\",\"Uniform Distribution (simple MG)\",\"Gumbel Distribution\", \"Normal Distribution\"])\n",
    "\n",
    "plt.yscale('log')\n",
    "plt.xlim([1,16])\n",
    "plt.ylim([0.1,100])\n",
    "plt.savefig('out/distributionIndividualM_empty.png', dpi=300, bbox_inches='tight')\n",
    "\n",
    "plt.show()"
   ]
  },
  {
   "cell_type": "code",
   "execution_count": null,
   "metadata": {},
   "outputs": [],
   "source": [
    "fig, ax = plt.subplots(figsize=(20, 8))\n",
    "\n",
    "ax.axhline(y=1, color=\"k\", linestyle=\"--\") # vol = 1 -> randomness\n",
    "\n",
    "ax.plot(m_list_u, tot_omega_u, 'r<')\n",
    "ax.plot(m_list_g, tot_omega_g, 'bo', linestyle=\"--\")\n",
    "ax.plot(m_list_n, tot_omega_n, 'Dy', linestyle=\"--\")\n",
    "ax.legend([\"randomness\",\"Uniform Distribution (simple MG)\",\"Gumbel Distribution\", \"Normal Distribution\"])\n",
    "\n",
    "plt.ylabel(\"Volatility $\\sigma^2/N$\",fontsize=15)\n",
    "plt.xlabel(\"$m$\",fontsize=15)\n",
    "plt.yticks(fontsize = 12)\n",
    "plt.xticks(fontsize = 12)\n",
    "\n",
    "plt.yscale('log')\n",
    "plt.xlim([1,16])\n",
    "plt.ylim([0.1,100])\n",
    "plt.savefig('out/distributionIndividualM.png', dpi=300, bbox_inches='tight')\n",
    "\n",
    "plt.show()"
   ]
  },
  {
   "cell_type": "markdown",
   "metadata": {},
   "source": [
    "alpha"
   ]
  },
  {
   "cell_type": "code",
   "execution_count": null,
   "metadata": {},
   "outputs": [],
   "source": [
    "fig, ax = plt.subplots(figsize=(20, 8))\n",
    "\n",
    "ax.axhline(y=1, color=\"k\", linestyle=\"--\") # vol = 1 -> randomness\n",
    "\n",
    "ax.plot(tot_alpha_u, tot_omega_u, '>r')\n",
    "ax.plot(tot_alpha_g, tot_omega_g, 'bo')\n",
    "ax.plot(tot_alpha_n, tot_omega_n, 'Dy')\n",
    "\n",
    "ax.set_xlabel(\"Alpha = $2^m/N$\")\n",
    "ax.set_ylabel(\"Volatility $\\sigma^2/N$\")\n",
    "ax.legend([\"randomness\",\"Uniform Distribution (simple MG)\",\"Gumbel Distribution\", \"Normal Distribution\"])\n",
    "\n",
    "plt.yscale('log')\n",
    "plt.xscale('log')\n",
    "plt.xlim([0.01,1000])\n",
    "plt.ylim([0.1,1000])\n",
    "plt.savefig('out/distributionIndividualM_alpha.png', dpi=300, bbox_inches='tight')\n",
    "\n",
    "plt.show()"
   ]
  }
 ],
 "metadata": {
  "kernelspec": {
   "display_name": "Python 3",
   "language": "python",
   "name": "python3"
  },
  "language_info": {
   "codemirror_mode": {
    "name": "ipython",
    "version": 3
   },
   "file_extension": ".py",
   "mimetype": "text/x-python",
   "name": "python",
   "nbconvert_exporter": "python",
   "pygments_lexer": "ipython3",
   "version": "3.9.4"
  }
 },
 "nbformat": 4,
 "nbformat_minor": 2
}
