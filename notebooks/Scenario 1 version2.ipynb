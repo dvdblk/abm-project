{
 "cells": [
  {
   "cell_type": "markdown",
   "metadata": {},
   "source": [
    "**Make sure to include** `import allow_local_imports` on top of every notebook in `notebooks/` dir to be able to use `lib/` modules."
   ]
  },
  {
   "cell_type": "code",
   "execution_count": 2,
   "metadata": {},
   "outputs": [],
   "source": [
    "# Include this on top, as the first import \n",
    "# This must always be imported first. If you are restarting the notebook\n",
    "# don't forget to run this cell first!\n",
    "import allow_local_imports"
   ]
  },
  {
   "cell_type": "code",
   "execution_count": 3,
   "metadata": {},
   "outputs": [],
   "source": [
    "from lib.minority_game import MinorityGame\n",
    "from lib.agents.agent import Agent, StrategyUpdatingAgent\n",
    "from lib.agents.factory import AgentFactory\n",
    "from lib.strategies import AlwaysOneStrategy, DefaultStrategy, FiftyFiftyStrategy\n",
    "from lib.memory import UniformMemoryGenerator\n",
    "from lib.plots import default_plot"
   ]
  },
  {
   "cell_type": "code",
   "execution_count": 4,
   "metadata": {},
   "outputs": [],
   "source": [
    "import numpy as np\n",
    "import matplotlib.pyplot as plt\n",
    "from scipy.stats import norm, gamma\n",
    "import seaborn as sns\n",
    "from numpy.random import default_rng"
   ]
  },
  {
   "cell_type": "code",
   "execution_count": 5,
   "metadata": {},
   "outputs": [],
   "source": [
    "class BaseMemoryGenerator:\n",
    "    \"\"\"\n",
    "    Abstract class that should be subclassed when implementing\n",
    "    a new memory generator.\n",
    "    \"\"\"\n",
    "    def __init__(self, m):\n",
    "        self.m = m\n",
    "\n",
    "    def generate(self, size):\n",
    "        raise NotImplementedError\n",
    "\n",
    "\n",
    "class UniformMemoryGenerator(BaseMemoryGenerator):\n",
    "    \"\"\"\n",
    "    Samples memory from a uniform distribution.\n",
    "    (All memories are of equal length...)\n",
    "    \"\"\"\n",
    "\n",
    "    def generate(self, size):\n",
    "        return np.ones(size, dtype=np.int32) * self.m\n",
    "    \n",
    "class NormalDistributionMemoryGenerator(BaseMemoryGenerator):\n",
    "    \"\"\"\n",
    "    Samples memory from a distribution\n",
    "    (Memories are distributed by normal distribution.)\n",
    "    \"\"\"\n",
    "\n",
    "    def generate(self, size):\n",
    "        rng = default_rng()\n",
    "        return rng.normal(self.m, 0.5, size).astype(int)\n",
    "    \n",
    "class GaussianDistributionMemoryGenerator(BaseMemoryGenerator):\n",
    "    \"\"\"\n",
    "    Samples memory from a distribution\n",
    "    (Memories are distributed by default gaussian distribution.)\n",
    "    \"\"\"\n",
    "\n",
    "    def generate(self, n_agents, min_m = 1, max_m = 20, a = 4):\n",
    "        spaces = max_m-min_m+1\n",
    "        x = np.linspace(min_m, max_m, spaces)\n",
    "        y =  gamma.pdf(x, a)\n",
    "        sample = np.random.choice(x, n_agents, p=y/(sum(y))).astype(int)\n",
    "        return sample\n",
    "\n",
    "class GumbelDistributionMemoryGenerator(BaseMemoryGenerator):\n",
    "    \"\"\"\n",
    "    Samples memory from a gumbel distribution.\n",
    "    (Skwed distribution of memory)\n",
    "    \"\"\"\n",
    "\n",
    "    def generate(self, size):\n",
    "        rng = default_rng()\n",
    "        return rng.gumbel(self.m, 0.5, size).astype(int)   "
   ]
  },
  {
   "cell_type": "markdown",
   "metadata": {},
   "source": [
    "## Simple MG (s = 2, N = 101, uniform memory)"
   ]
  },
  {
   "cell_type": "code",
   "execution_count": 5,
   "metadata": {
    "scrolled": true
   },
   "outputs": [
    {
     "ename": "KeyboardInterrupt",
     "evalue": "",
     "output_type": "error",
     "traceback": [
      "\u001b[1;31m---------------------------------------------------------------------------\u001b[0m",
      "\u001b[1;31mKeyboardInterrupt\u001b[0m                         Traceback (most recent call last)",
      "\u001b[1;32m<ipython-input-5-d5785d1df2d4>\u001b[0m in \u001b[0;36m<module>\u001b[1;34m\u001b[0m\n\u001b[0;32m      4\u001b[0m \u001b[1;33m\u001b[0m\u001b[0m\n\u001b[0;32m      5\u001b[0m \u001b[1;32mfor\u001b[0m \u001b[0mM\u001b[0m \u001b[1;32min\u001b[0m \u001b[0mrange\u001b[0m \u001b[1;33m(\u001b[0m\u001b[1;36m2\u001b[0m\u001b[1;33m,\u001b[0m\u001b[1;36m10\u001b[0m\u001b[1;33m)\u001b[0m\u001b[1;33m:\u001b[0m\u001b[1;33m\u001b[0m\u001b[1;33m\u001b[0m\u001b[0m\n\u001b[1;32m----> 6\u001b[1;33m     times, attendances, mean_A_t, vol_A_t = MinorityGame(\n\u001b[0m\u001b[0;32m      7\u001b[0m         \u001b[0mn_agents\u001b[0m\u001b[1;33m=\u001b[0m\u001b[1;36m101\u001b[0m\u001b[1;33m,\u001b[0m\u001b[1;33m\u001b[0m\u001b[1;33m\u001b[0m\u001b[0m\n\u001b[0;32m      8\u001b[0m         factory_dict={\n",
      "\u001b[1;32m~\\Desktop\\UZH\\Courses\\Agent-Based Modelling\\Project\\abm-project\\lib\\minority_game.py\u001b[0m in \u001b[0;36msimulate_game\u001b[1;34m(self, max_steps)\u001b[0m\n\u001b[0;32m    131\u001b[0m         \u001b[1;31m# Run the game\u001b[0m\u001b[1;33m\u001b[0m\u001b[1;33m\u001b[0m\u001b[1;33m\u001b[0m\u001b[0m\n\u001b[0;32m    132\u001b[0m         \u001b[1;32mfor\u001b[0m \u001b[0mt\u001b[0m \u001b[1;32min\u001b[0m \u001b[0mrange\u001b[0m\u001b[1;33m(\u001b[0m\u001b[0mmax_steps\u001b[0m\u001b[1;33m)\u001b[0m\u001b[1;33m:\u001b[0m\u001b[1;33m\u001b[0m\u001b[1;33m\u001b[0m\u001b[0m\n\u001b[1;32m--> 133\u001b[1;33m             \u001b[0mA_t\u001b[0m \u001b[1;33m=\u001b[0m \u001b[0mself\u001b[0m\u001b[1;33m.\u001b[0m\u001b[0m_game_step\u001b[0m\u001b[1;33m(\u001b[0m\u001b[1;33m)\u001b[0m\u001b[1;33m\u001b[0m\u001b[1;33m\u001b[0m\u001b[0m\n\u001b[0m\u001b[0;32m    134\u001b[0m \u001b[1;33m\u001b[0m\u001b[0m\n\u001b[0;32m    135\u001b[0m             \u001b[1;31m# Save for plotting\u001b[0m\u001b[1;33m\u001b[0m\u001b[1;33m\u001b[0m\u001b[1;33m\u001b[0m\u001b[0m\n",
      "\u001b[1;32m~\\Desktop\\UZH\\Courses\\Agent-Based Modelling\\Project\\abm-project\\lib\\minority_game.py\u001b[0m in \u001b[0;36m_game_step\u001b[1;34m(self)\u001b[0m\n\u001b[0;32m     92\u001b[0m         \u001b[1;31m# they want to take based on the game memory (history)\u001b[0m\u001b[1;33m\u001b[0m\u001b[1;33m\u001b[0m\u001b[1;33m\u001b[0m\u001b[0m\n\u001b[0;32m     93\u001b[0m         \u001b[1;32mfor\u001b[0m \u001b[0mi\u001b[0m\u001b[1;33m,\u001b[0m \u001b[0magent\u001b[0m \u001b[1;32min\u001b[0m \u001b[0menumerate\u001b[0m\u001b[1;33m(\u001b[0m\u001b[0mself\u001b[0m\u001b[1;33m.\u001b[0m\u001b[0magents\u001b[0m\u001b[1;33m)\u001b[0m\u001b[1;33m:\u001b[0m\u001b[1;33m\u001b[0m\u001b[1;33m\u001b[0m\u001b[0m\n\u001b[1;32m---> 94\u001b[1;33m             \u001b[0ma_t\u001b[0m \u001b[1;33m=\u001b[0m \u001b[0magent\u001b[0m\u001b[1;33m.\u001b[0m\u001b[0mchoose_action\u001b[0m\u001b[1;33m(\u001b[0m\u001b[0mself\u001b[0m\u001b[1;33m.\u001b[0m\u001b[0mhistory\u001b[0m\u001b[1;33m)\u001b[0m\u001b[1;33m\u001b[0m\u001b[1;33m\u001b[0m\u001b[0m\n\u001b[0m\u001b[0;32m     95\u001b[0m             \u001b[0mactions\u001b[0m\u001b[1;33m[\u001b[0m\u001b[0mi\u001b[0m\u001b[1;33m]\u001b[0m \u001b[1;33m=\u001b[0m \u001b[0ma_t\u001b[0m\u001b[1;33m\u001b[0m\u001b[1;33m\u001b[0m\u001b[0m\n\u001b[0;32m     96\u001b[0m \u001b[1;33m\u001b[0m\u001b[0m\n",
      "\u001b[1;32m~\\Desktop\\UZH\\Courses\\Agent-Based Modelling\\Project\\abm-project\\lib\\agents\\agent.py\u001b[0m in \u001b[0;36mchoose_action\u001b[1;34m(self, history)\u001b[0m\n\u001b[0;32m     43\u001b[0m         \u001b[1;31m# Find the highest strategy score index\u001b[0m\u001b[1;33m\u001b[0m\u001b[1;33m\u001b[0m\u001b[1;33m\u001b[0m\u001b[0m\n\u001b[0;32m     44\u001b[0m         \u001b[0mscores\u001b[0m \u001b[1;33m=\u001b[0m \u001b[0mself\u001b[0m\u001b[1;33m.\u001b[0m\u001b[0m_scores\u001b[0m\u001b[1;33m(\u001b[0m\u001b[1;33m)\u001b[0m\u001b[1;33m\u001b[0m\u001b[1;33m\u001b[0m\u001b[0m\n\u001b[1;32m---> 45\u001b[1;33m         \u001b[0mbest_strategies\u001b[0m \u001b[1;33m=\u001b[0m \u001b[0mnp\u001b[0m\u001b[1;33m.\u001b[0m\u001b[0margwhere\u001b[0m\u001b[1;33m(\u001b[0m\u001b[0mscores\u001b[0m \u001b[1;33m==\u001b[0m \u001b[0mnp\u001b[0m\u001b[1;33m.\u001b[0m\u001b[0mamax\u001b[0m\u001b[1;33m(\u001b[0m\u001b[0mscores\u001b[0m\u001b[1;33m)\u001b[0m\u001b[1;33m)\u001b[0m\u001b[1;33m.\u001b[0m\u001b[0mflatten\u001b[0m\u001b[1;33m(\u001b[0m\u001b[1;33m)\u001b[0m\u001b[1;33m\u001b[0m\u001b[1;33m\u001b[0m\u001b[0m\n\u001b[0m\u001b[0;32m     46\u001b[0m         \u001b[1;31m# Sometimes the strategies might have the same score. If that's the\u001b[0m\u001b[1;33m\u001b[0m\u001b[1;33m\u001b[0m\u001b[1;33m\u001b[0m\u001b[0m\n\u001b[0;32m     47\u001b[0m         \u001b[1;31m# case, rng.choice will choose one randomly. If there is only one strategy\u001b[0m\u001b[1;33m\u001b[0m\u001b[1;33m\u001b[0m\u001b[1;33m\u001b[0m\u001b[0m\n",
      "\u001b[1;32m<__array_function__ internals>\u001b[0m in \u001b[0;36margwhere\u001b[1;34m(*args, **kwargs)\u001b[0m\n",
      "\u001b[1;32m~\\Anaconda3\\envs\\abm-project\\lib\\site-packages\\numpy\\core\\numeric.py\u001b[0m in \u001b[0;36margwhere\u001b[1;34m(a)\u001b[0m\n\u001b[0;32m    615\u001b[0m         \u001b[1;31m# then remove the added dimension\u001b[0m\u001b[1;33m\u001b[0m\u001b[1;33m\u001b[0m\u001b[1;33m\u001b[0m\u001b[0m\n\u001b[0;32m    616\u001b[0m         \u001b[1;32mreturn\u001b[0m \u001b[0margwhere\u001b[0m\u001b[1;33m(\u001b[0m\u001b[0ma\u001b[0m\u001b[1;33m)\u001b[0m\u001b[1;33m[\u001b[0m\u001b[1;33m:\u001b[0m\u001b[1;33m,\u001b[0m\u001b[1;33m:\u001b[0m\u001b[1;36m0\u001b[0m\u001b[1;33m]\u001b[0m\u001b[1;33m\u001b[0m\u001b[1;33m\u001b[0m\u001b[0m\n\u001b[1;32m--> 617\u001b[1;33m     \u001b[1;32mreturn\u001b[0m \u001b[0mtranspose\u001b[0m\u001b[1;33m(\u001b[0m\u001b[0mnonzero\u001b[0m\u001b[1;33m(\u001b[0m\u001b[0ma\u001b[0m\u001b[1;33m)\u001b[0m\u001b[1;33m)\u001b[0m\u001b[1;33m\u001b[0m\u001b[1;33m\u001b[0m\u001b[0m\n\u001b[0m\u001b[0;32m    618\u001b[0m \u001b[1;33m\u001b[0m\u001b[0m\n\u001b[0;32m    619\u001b[0m \u001b[1;33m\u001b[0m\u001b[0m\n",
      "\u001b[1;32m<__array_function__ internals>\u001b[0m in \u001b[0;36mtranspose\u001b[1;34m(*args, **kwargs)\u001b[0m\n",
      "\u001b[1;32m~\\Anaconda3\\envs\\abm-project\\lib\\site-packages\\numpy\\core\\fromnumeric.py\u001b[0m in \u001b[0;36mtranspose\u001b[1;34m(a, axes)\u001b[0m\n\u001b[0;32m    656\u001b[0m \u001b[1;33m\u001b[0m\u001b[0m\n\u001b[0;32m    657\u001b[0m     \"\"\"\n\u001b[1;32m--> 658\u001b[1;33m     \u001b[1;32mreturn\u001b[0m \u001b[0m_wrapfunc\u001b[0m\u001b[1;33m(\u001b[0m\u001b[0ma\u001b[0m\u001b[1;33m,\u001b[0m \u001b[1;34m'transpose'\u001b[0m\u001b[1;33m,\u001b[0m \u001b[0maxes\u001b[0m\u001b[1;33m)\u001b[0m\u001b[1;33m\u001b[0m\u001b[1;33m\u001b[0m\u001b[0m\n\u001b[0m\u001b[0;32m    659\u001b[0m \u001b[1;33m\u001b[0m\u001b[0m\n\u001b[0;32m    660\u001b[0m \u001b[1;33m\u001b[0m\u001b[0m\n",
      "\u001b[1;32m~\\Anaconda3\\envs\\abm-project\\lib\\site-packages\\numpy\\core\\fromnumeric.py\u001b[0m in \u001b[0;36m_wrapfunc\u001b[1;34m(obj, method, *args, **kwds)\u001b[0m\n\u001b[0;32m     53\u001b[0m     \u001b[0mbound\u001b[0m \u001b[1;33m=\u001b[0m \u001b[0mgetattr\u001b[0m\u001b[1;33m(\u001b[0m\u001b[0mobj\u001b[0m\u001b[1;33m,\u001b[0m \u001b[0mmethod\u001b[0m\u001b[1;33m,\u001b[0m \u001b[1;32mNone\u001b[0m\u001b[1;33m)\u001b[0m\u001b[1;33m\u001b[0m\u001b[1;33m\u001b[0m\u001b[0m\n\u001b[0;32m     54\u001b[0m     \u001b[1;32mif\u001b[0m \u001b[0mbound\u001b[0m \u001b[1;32mis\u001b[0m \u001b[1;32mNone\u001b[0m\u001b[1;33m:\u001b[0m\u001b[1;33m\u001b[0m\u001b[1;33m\u001b[0m\u001b[0m\n\u001b[1;32m---> 55\u001b[1;33m         \u001b[1;32mreturn\u001b[0m \u001b[0m_wrapit\u001b[0m\u001b[1;33m(\u001b[0m\u001b[0mobj\u001b[0m\u001b[1;33m,\u001b[0m \u001b[0mmethod\u001b[0m\u001b[1;33m,\u001b[0m \u001b[1;33m*\u001b[0m\u001b[0margs\u001b[0m\u001b[1;33m,\u001b[0m \u001b[1;33m**\u001b[0m\u001b[0mkwds\u001b[0m\u001b[1;33m)\u001b[0m\u001b[1;33m\u001b[0m\u001b[1;33m\u001b[0m\u001b[0m\n\u001b[0m\u001b[0;32m     56\u001b[0m \u001b[1;33m\u001b[0m\u001b[0m\n\u001b[0;32m     57\u001b[0m     \u001b[1;32mtry\u001b[0m\u001b[1;33m:\u001b[0m\u001b[1;33m\u001b[0m\u001b[1;33m\u001b[0m\u001b[0m\n",
      "\u001b[1;32m~\\Anaconda3\\envs\\abm-project\\lib\\site-packages\\numpy\\core\\fromnumeric.py\u001b[0m in \u001b[0;36m_wrapit\u001b[1;34m(obj, method, *args, **kwds)\u001b[0m\n\u001b[0;32m     42\u001b[0m     \u001b[1;32mexcept\u001b[0m \u001b[0mAttributeError\u001b[0m\u001b[1;33m:\u001b[0m\u001b[1;33m\u001b[0m\u001b[1;33m\u001b[0m\u001b[0m\n\u001b[0;32m     43\u001b[0m         \u001b[0mwrap\u001b[0m \u001b[1;33m=\u001b[0m \u001b[1;32mNone\u001b[0m\u001b[1;33m\u001b[0m\u001b[1;33m\u001b[0m\u001b[0m\n\u001b[1;32m---> 44\u001b[1;33m     \u001b[0mresult\u001b[0m \u001b[1;33m=\u001b[0m \u001b[0mgetattr\u001b[0m\u001b[1;33m(\u001b[0m\u001b[0masarray\u001b[0m\u001b[1;33m(\u001b[0m\u001b[0mobj\u001b[0m\u001b[1;33m)\u001b[0m\u001b[1;33m,\u001b[0m \u001b[0mmethod\u001b[0m\u001b[1;33m)\u001b[0m\u001b[1;33m(\u001b[0m\u001b[1;33m*\u001b[0m\u001b[0margs\u001b[0m\u001b[1;33m,\u001b[0m \u001b[1;33m**\u001b[0m\u001b[0mkwds\u001b[0m\u001b[1;33m)\u001b[0m\u001b[1;33m\u001b[0m\u001b[1;33m\u001b[0m\u001b[0m\n\u001b[0m\u001b[0;32m     45\u001b[0m     \u001b[1;32mif\u001b[0m \u001b[0mwrap\u001b[0m\u001b[1;33m:\u001b[0m\u001b[1;33m\u001b[0m\u001b[1;33m\u001b[0m\u001b[0m\n\u001b[0;32m     46\u001b[0m         \u001b[1;32mif\u001b[0m \u001b[1;32mnot\u001b[0m \u001b[0misinstance\u001b[0m\u001b[1;33m(\u001b[0m\u001b[0mresult\u001b[0m\u001b[1;33m,\u001b[0m \u001b[0mmu\u001b[0m\u001b[1;33m.\u001b[0m\u001b[0mndarray\u001b[0m\u001b[1;33m)\u001b[0m\u001b[1;33m:\u001b[0m\u001b[1;33m\u001b[0m\u001b[1;33m\u001b[0m\u001b[0m\n",
      "\u001b[1;32m~\\Anaconda3\\envs\\abm-project\\lib\\site-packages\\numpy\\core\\_asarray.py\u001b[0m in \u001b[0;36masarray\u001b[1;34m(a, dtype, order, like)\u001b[0m\n\u001b[0;32m    100\u001b[0m         \u001b[1;32mreturn\u001b[0m \u001b[0m_asarray_with_like\u001b[0m\u001b[1;33m(\u001b[0m\u001b[0ma\u001b[0m\u001b[1;33m,\u001b[0m \u001b[0mdtype\u001b[0m\u001b[1;33m=\u001b[0m\u001b[0mdtype\u001b[0m\u001b[1;33m,\u001b[0m \u001b[0morder\u001b[0m\u001b[1;33m=\u001b[0m\u001b[0morder\u001b[0m\u001b[1;33m,\u001b[0m \u001b[0mlike\u001b[0m\u001b[1;33m=\u001b[0m\u001b[0mlike\u001b[0m\u001b[1;33m)\u001b[0m\u001b[1;33m\u001b[0m\u001b[1;33m\u001b[0m\u001b[0m\n\u001b[0;32m    101\u001b[0m \u001b[1;33m\u001b[0m\u001b[0m\n\u001b[1;32m--> 102\u001b[1;33m     \u001b[1;32mreturn\u001b[0m \u001b[0marray\u001b[0m\u001b[1;33m(\u001b[0m\u001b[0ma\u001b[0m\u001b[1;33m,\u001b[0m \u001b[0mdtype\u001b[0m\u001b[1;33m,\u001b[0m \u001b[0mcopy\u001b[0m\u001b[1;33m=\u001b[0m\u001b[1;32mFalse\u001b[0m\u001b[1;33m,\u001b[0m \u001b[0morder\u001b[0m\u001b[1;33m=\u001b[0m\u001b[0morder\u001b[0m\u001b[1;33m)\u001b[0m\u001b[1;33m\u001b[0m\u001b[1;33m\u001b[0m\u001b[0m\n\u001b[0m\u001b[0;32m    103\u001b[0m \u001b[1;33m\u001b[0m\u001b[0m\n\u001b[0;32m    104\u001b[0m \u001b[1;33m\u001b[0m\u001b[0m\n",
      "\u001b[1;31mKeyboardInterrupt\u001b[0m: "
     ]
    }
   ],
   "source": [
    "n_agents = 101 # check with David why it does not work if I do MinorityGame.n_agents\n",
    "tot_omega_u = []\n",
    "tot_alpha_u = []\n",
    "\n",
    "for M in range (2,10):\n",
    "    times, attendances, mean_A_t, vol_A_t = MinorityGame(\n",
    "        n_agents=101,\n",
    "        factory_dict={\n",
    "            1: AgentFactory(\n",
    "                Agent,\n",
    "                agent_kwargs=dict(\n",
    "                    strategy_clss=[DefaultStrategy,DefaultStrategy]\n",
    "                ),\n",
    "                memory_generator=UniformMemoryGenerator(M)\n",
    "            ),\n",
    "        }\n",
    "    ).simulate_game(max_steps=5000)\n",
    "    # in order to create the graph\n",
    "    omega = np.average(vol_A_t)/n_agents\n",
    "    alpha = 2**M/n_agents\n",
    "    tot_omega_u.append(omega)\n",
    "    tot_alpha_u.append(alpha)"
   ]
  },
  {
   "cell_type": "code",
   "execution_count": null,
   "metadata": {},
   "outputs": [],
   "source": [
    "fig, ax = plt.subplots(figsize=(12, 6))\n",
    "\n",
    "ax.axhline(y=1, color=\"k\", linestyle=\"--\")\n",
    "ax.plot(tot_alpha_u, tot_omega_u, 'bo')\n",
    "ax.set_xlabel(\"Alpha = $2^m/N$\")\n",
    "ax.set_ylabel(\"Volatility\")\n",
    "\n",
    "plt.title(\"Simple Minority Game with s=2, N=101\")\n",
    "plt.yscale('log')\n",
    "plt.xscale('log')\n",
    "plt.xlim([0.01,100])\n",
    "plt.ylim([0.1,100])\n",
    "\n",
    "plt.show()"
   ]
  },
  {
   "cell_type": "markdown",
   "metadata": {},
   "source": [
    "## MG (s = 2, N = 101, gumbel distribution memory)"
   ]
  },
  {
   "cell_type": "code",
   "execution_count": 6,
   "metadata": {},
   "outputs": [
    {
     "name": "stderr",
     "output_type": "stream",
     "text": [
      "C:\\Users\\Reetta\\Anaconda3\\envs\\abm-project\\lib\\site-packages\\seaborn\\_decorators.py:36: FutureWarning: Pass the following variables as keyword args: x, y. From version 0.12, the only valid positional argument will be `data`, and passing other arguments without an explicit keyword will result in an error or misinterpretation.\n",
      "  warnings.warn(\n"
     ]
    },
    {
     "data": {
      "image/png": "[encoded data removed]",
      "text/plain": [
       "<Figure size 432x288 with 1 Axes>"
      ]
     },
     "metadata": {
      "needs_background": "light"
     },
     "output_type": "display_data"
    }
   ],
   "source": [
    "# a possible distribution \n",
    "rng = default_rng()\n",
    "m = 2\n",
    "n_agents = 201\n",
    "\n",
    "a = rng.gumbel(m, 0.5, n_agents).astype(int) # m is the mode , 1 is the scale (how narrow it is), n_agents is the size\n",
    "\n",
    "# Numpy arrays containing counts for each side\n",
    "side, count = np.unique(a, return_counts=True)\n",
    "\n",
    "# Plot the results\n",
    "sns.barplot(side, count)\n",
    "plt.title(\n",
    "    f\"Distribution of the m-values (with {n_agents} agents)\")\n",
    "plt.ylabel(\"Count\")\n",
    "plt.xlabel(\"m\")\n",
    "plt.show()"
   ]
  },
  {
   "cell_type": "code",
   "execution_count": 7,
   "metadata": {},
   "outputs": [],
   "source": [
    "n_agents = 101 # check with David why it does not work if I do MinorityGame.n_agents\n",
    "tot_omega_g = []\n",
    "tot_alpha_g = []\n",
    "\n",
    "for M in range (2,10):\n",
    "    times, attendances, mean_A_t, vol_A_t = MinorityGame(\n",
    "        n_agents=101,\n",
    "        factory_dict={\n",
    "            1: AgentFactory(\n",
    "                Agent,\n",
    "                agent_kwargs=dict(\n",
    "                    strategy_clss=[DefaultStrategy,DefaultStrategy]\n",
    "                ),\n",
    "                memory_generator=GumbelDistributionMemoryGenerator(M)\n",
    "            ),\n",
    "        }\n",
    "    ).simulate_game(max_steps=5000)\n",
    "    # in order to create the graph\n",
    "    omega = np.average(vol_A_t)/n_agents\n",
    "    alpha = 2**M/n_agents\n",
    "    tot_omega_g.append(omega)\n",
    "    tot_alpha_g.append(alpha)"
   ]
  },
  {
   "cell_type": "code",
   "execution_count": 8,
   "metadata": {},
   "outputs": [
    {
     "data": {
      "text/plain": [
       "0.8767070624327599"
      ]
     },
     "execution_count": 8,
     "metadata": {},
     "output_type": "execute_result"
    }
   ],
   "source": [
    "omega"
   ]
  },
  {
   "cell_type": "code",
   "execution_count": 9,
   "metadata": {},
   "outputs": [
    {
     "data": {
      "text/plain": [
       "[3.524789897653289,\n",
       " 1.5685514904187032,\n",
       " 1.1509257804260602,\n",
       " 0.5382363157768341,\n",
       " 0.46844661986056657,\n",
       " 0.6260443309592061,\n",
       " 0.714490046753253,\n",
       " 0.8767070624327599]"
      ]
     },
     "execution_count": 9,
     "metadata": {},
     "output_type": "execute_result"
    }
   ],
   "source": [
    "tot_omega_g"
   ]
  },
  {
   "cell_type": "code",
   "execution_count": 10,
   "metadata": {},
   "outputs": [
    {
     "data": {
      "text/plain": [
       "array([ 0.        ,  1.        , 27.55555556, ..., 84.83108473,\n",
       "       84.91884286, 84.912     ])"
      ]
     },
     "execution_count": 10,
     "metadata": {},
     "output_type": "execute_result"
    }
   ],
   "source": [
    "vol_A_t"
   ]
  },
  {
   "cell_type": "code",
   "execution_count": 11,
   "metadata": {
    "scrolled": false
   },
   "outputs": [
    {
     "data": {
      "image/png": "[encoded data removed]",
      "text/plain": [
       "<Figure size 864x432 with 1 Axes>"
      ]
     },
     "metadata": {
      "needs_background": "light"
     },
     "output_type": "display_data"
    }
   ],
   "source": [
    "fig, ax = plt.subplots(figsize=(12, 6))\n",
    "\n",
    "ax.axhline(y=1, color=\"k\", linestyle=\"--\")\n",
    "ax.plot(tot_alpha_g, tot_omega_g, 'bo')\n",
    "ax.set_xlabel(\"Alpha = $2^m/N$\")\n",
    "ax.set_ylabel(\"Volatility\")\n",
    "\n",
    "plt.title(\"MG with heterogeneous memory, s=2, N=101\")\n",
    "plt.yscale('log')\n",
    "plt.xscale('log')\n",
    "plt.xlim([0.01,100])\n",
    "plt.ylim([0.1,100])\n",
    "\n",
    "plt.show()"
   ]
  },
  {
   "cell_type": "markdown",
   "metadata": {},
   "source": [
    "## MG (s = 2, N = 101, normal distribution memory)"
   ]
  },
  {
   "cell_type": "code",
   "execution_count": 43,
   "metadata": {},
   "outputs": [
    {
     "name": "stderr",
     "output_type": "stream",
     "text": [
      "/Users/Luca/opt/anaconda3/envs/py39/lib/python3.9/site-packages/seaborn/_decorators.py:36: FutureWarning: Pass the following variables as keyword args: x, y. From version 0.12, the only valid positional argument will be `data`, and passing other arguments without an explicit keyword will result in an error or misinterpretation.\n",
      "  warnings.warn(\n"
     ]
    },
    {
     "data": {
      "image/png": "[encoded data removed]",
      "text/plain": [
       "<Figure size 432x288 with 1 Axes>"
      ]
     },
     "metadata": {
      "needs_background": "light"
     },
     "output_type": "display_data"
    }
   ],
   "source": [
    "# problem it should not give 0 value\n",
    "rng = default_rng()\n",
    "m = 2\n",
    "n_agents = 201\n",
    "\n",
    "a = rng.normal(m, 0.5, n_agents).astype(int) # m is the mode , 1 is the scale (how narrow it is), n_agents is the size\n",
    "\n",
    "# Numpy arrays containing counts for each side\n",
    "side, count = np.unique(a, return_counts=True)\n",
    "\n",
    "# Plot the results\n",
    "sns.barplot(side, count)\n",
    "plt.title(\n",
    "    f\"Distribution of the m-values (with {n_agents} agents)\")\n",
    "plt.ylabel(\"Count\")\n",
    "plt.xlabel(\"m\")\n",
    "plt.show()"
   ]
  },
  {
   "cell_type": "code",
   "execution_count": 21,
   "metadata": {},
   "outputs": [],
   "source": [
    "n_agents = 101 # check with David why it does not work if I do MinorityGame.n_agents\n",
    "tot_omega_n = []\n",
    "tot_alpha_n = []\n",
    "\n",
    "for M in range (3,10): # with 2 some agents have memory of 0 wich does not make sense\n",
    "    times, attendances, mean_A_t, vol_A_t = MinorityGame(\n",
    "        n_agents=101,\n",
    "        factory_dict={\n",
    "            1: AgentFactory(\n",
    "                Agent,\n",
    "                agent_kwargs=dict(\n",
    "                    strategy_clss=[DefaultStrategy,DefaultStrategy]\n",
    "                ),\n",
    "                memory_generator=NormalDistributionMemoryGenerator(M)\n",
    "            ),\n",
    "        }\n",
    "    ).simulate_game(max_steps=5000)\n",
    "    # in order to create the graph\n",
    "    omega = np.average(vol_A_t)/n_agents\n",
    "    alpha = 2**M/n_agents\n",
    "    tot_omega_n.append(omega)\n",
    "    tot_alpha_n.append(alpha)"
   ]
  },
  {
   "cell_type": "code",
   "execution_count": 22,
   "metadata": {},
   "outputs": [
    {
     "data": {
      "text/plain": [
       "array([  0.        , 144.        ,  99.55555556, ...,  75.22883423,\n",
       "        75.22337594,  75.20856304])"
      ]
     },
     "execution_count": 22,
     "metadata": {},
     "output_type": "execute_result"
    }
   ],
   "source": [
    "vol_A_t"
   ]
  },
  {
   "cell_type": "code",
   "execution_count": 21,
   "metadata": {
    "scrolled": false
   },
   "outputs": [
    {
     "data": {
      "image/png": "[encoded data removed]",
      "text/plain": [
       "<Figure size 864x432 with 1 Axes>"
      ]
     },
     "metadata": {
      "needs_background": "light"
     },
     "output_type": "display_data"
    }
   ],
   "source": [
    "fig, ax = plt.subplots(figsize=(12, 6))\n",
    "\n",
    "ax.axhline(y=1, color=\"k\", linestyle=\"--\")\n",
    "ax.plot(tot_alpha_n, tot_omega_n, 'bo')\n",
    "ax.set_xlabel(\"Alpha = $2^m/N$\")\n",
    "ax.set_ylabel(\"Volatility\")\n",
    "\n",
    "plt.title(\"MG with heterogeneous memory, s=2, N=101\")\n",
    "plt.yscale('log')\n",
    "plt.xscale('log')\n",
    "plt.xlim([0.01,100])\n",
    "plt.ylim([0.1,100])\n",
    "\n",
    "plt.show()"
   ]
  },
  {
   "cell_type": "markdown",
   "metadata": {},
   "source": [
    "## Everything in one graph"
   ]
  },
  {
   "cell_type": "code",
   "execution_count": 27,
   "metadata": {
    "scrolled": false
   },
   "outputs": [
    {
     "data": {
      "image/png": "[encoded data removed]",
      "text/plain": [
       "<Figure size 864x432 with 1 Axes>"
      ]
     },
     "metadata": {
      "needs_background": "light"
     },
     "output_type": "display_data"
    }
   ],
   "source": [
    "# everything in one graph\n",
    "\n",
    "fig, ax = plt.subplots(figsize=(12, 6))\n",
    "\n",
    "ax.axhline(y=1, color=\"k\", linestyle=\"--\") # vol = 1 -> randomness\n",
    "\n",
    "ax.plot(tot_alpha_u, tot_omega_u, '>r')\n",
    "ax.plot(tot_alpha_g, tot_omega_g, 'bo')\n",
    "ax.plot(tot_alpha_n, tot_omega_n, 'Dy')\n",
    "\n",
    "ax.set_xlabel(\"Alpha = $2^m/N$\")\n",
    "ax.set_ylabel(\"Volatility $\\sigma^2/N$\")\n",
    "ax.legend([\"randomness\",\"Uniform Distribution (simple MG)\",\"Gumbel Distribution\", \"Normal Distribution\"])\n",
    "\n",
    "plt.title(\"Volatilty as a function of alpha (MG with s=2, N=101)\")\n",
    "plt.yscale('log')\n",
    "plt.xscale('log')\n",
    "plt.xlim([0.01,100])\n",
    "plt.ylim([0.1,100])\n",
    "\n",
    "plt.show()"
   ]
  },
  {
   "cell_type": "markdown",
   "metadata": {},
   "source": [
    "## Check for variation in realization (should we do multiple realization for each value of alpha?)"
   ]
  },
  {
   "cell_type": "code",
   "execution_count": 36,
   "metadata": {},
   "outputs": [],
   "source": [
    "# normal distribution\n",
    "\n",
    "n_agents = 101 # check with David why it does not work if I do MinorityGame.n_agents\n",
    "tot_omega = []\n",
    "tot_alpha = []\n",
    "realization = []\n",
    "M = 5\n",
    "for i in range (0,10): \n",
    "    times, attendances, mean_A_t, vol_A_t = MinorityGame(\n",
    "        n_agents=101,\n",
    "        factory_dict={\n",
    "            1: AgentFactory(\n",
    "                Agent,\n",
    "                agent_kwargs=dict(\n",
    "                    strategy_clss=[DefaultStrategy,DefaultStrategy]\n",
    "                ),\n",
    "                memory_generator=NormalDistributionMemoryGenerator(M)\n",
    "            ),\n",
    "        }\n",
    "    ).simulate_game(max_steps=5000)\n",
    "    # in order to create the graph\n",
    "    omega = np.average(vol_A_t)/n_agents\n",
    "    alpha = 2**M/n_agents\n",
    "    tot_omega.append(omega)\n",
    "    tot_alpha.append(alpha)\n",
    "    realization.append(i)"
   ]
  },
  {
   "cell_type": "code",
   "execution_count": 40,
   "metadata": {},
   "outputs": [
    {
     "data": {
      "text/plain": [
       "[0, 1, 2, 3, 4, 5, 6, 7, 8, 9]"
      ]
     },
     "execution_count": 40,
     "metadata": {},
     "output_type": "execute_result"
    }
   ],
   "source": [
    "realization"
   ]
  },
  {
   "cell_type": "code",
   "execution_count": 45,
   "metadata": {},
   "outputs": [
    {
     "data": {
      "image/png": "[encoded data removed]",
      "text/plain": [
       "<Figure size 864x432 with 1 Axes>"
      ]
     },
     "metadata": {
      "needs_background": "light"
     },
     "output_type": "display_data"
    }
   ],
   "source": [
    "fig, ax = plt.subplots(figsize=(12, 6))\n",
    "\n",
    "ax.axhline(y=1, color=\"k\", linestyle=\"--\")\n",
    "ax.plot(realization, tot_omega, 'bo')\n",
    "ax.set_xlabel(\"Realizations\")\n",
    "ax.set_ylabel(\"Volatility\")\n",
    "\n",
    "plt.title(\"multiple realizations of MG with normal distributed memory, s=2, N=101, m=5\")\n",
    "plt.yscale('log')\n",
    "plt.ylim([0.1,100])\n",
    "\n",
    "plt.show()"
   ]
  },
  {
   "cell_type": "markdown",
   "metadata": {},
   "source": [
    "There is some variation within realizations..."
   ]
  },
  {
   "cell_type": "markdown",
   "metadata": {},
   "source": [
    "## Individual agents"
   ]
  },
  {
   "cell_type": "code",
   "execution_count": 6,
   "metadata": {},
   "outputs": [],
   "source": [
    "class NormalDistributionMemoryGenerator(BaseMemoryGenerator):\n",
    "    \"\"\"\n",
    "    Samples memory from a distribution\n",
    "    (Memories are distributed by normal distribution.)\n",
    "    \"\"\"\n",
    "    def generate(self, size):\n",
    "        rng = default_rng()\n",
    "        return rng.normal(self.m, 2, size).astype(int)\n",
    "\n",
    "\n",
    "class GumbelDistributionMemoryGenerator(BaseMemoryGenerator):\n",
    "    \"\"\"\n",
    "    Samples memory from a gumbel distribution.\n",
    "    (Skewed distribution of memory)\n",
    "    \"\"\"\n",
    "    def generate(self, size):\n",
    "        rng = default_rng()\n",
    "        return rng.gumbel(self.m, 2, size).astype(int)   "
   ]
  },
  {
   "cell_type": "code",
   "execution_count": 29,
   "metadata": {},
   "outputs": [],
   "source": [
    "import numpy as np\n",
    "from numpy.lib.arraysetops import isin\n",
    "from lib.error import MinorityGameError\n",
    "from typing import List\n",
    "import pandas as pd"
   ]
  },
  {
   "cell_type": "code",
   "execution_count": 542,
   "metadata": {},
   "outputs": [],
   "source": [
    "class MinorityGameIndividualAgents:\n",
    "    \"\"\"Base class for running a minority game (MG) simulation.\"\"\"\n",
    "\n",
    "    def __init__(self, n_agents: int, factory_dict, max_history=50, rng=None) -> None:\n",
    "        \"\"\"\n",
    "        Args:\n",
    "            n_agents (int): the number of agents `N`, must be odd\n",
    "            factory_dict (dict): a dictionary that contains the AgentFactories,\n",
    "                                 keys are the fractions of total_agents to produce\n",
    "                                 from the AgentFactories\n",
    "            max_history (int): the maximum history that will be kept in the game memory\n",
    "            rng (Generator): the random number generator used in the game\n",
    "        \"\"\"\n",
    "        if n_agents % 2 == 0:\n",
    "            raise MinorityGameError(\"Number of agents should be odd\")\n",
    "        self.n_agents = n_agents\n",
    "\n",
    "        # Random Number Generator\n",
    "        self.rng = rng or np.random.default_rng()\n",
    "\n",
    "        # Agents\n",
    "        total_agent_frac = np.sum(list(factory_dict.keys()))\n",
    "        if total_agent_frac != 1:\n",
    "            raise MinorityGameError(\n",
    "                f\"The sum of agent fractions must be equal to 1 (current value = {total_agent_frac})\"\n",
    "            )\n",
    "\n",
    "        agents = []\n",
    "        for agent_frac, factory in factory_dict.items():\n",
    "            n_new_agents = int(n_agents * agent_frac)\n",
    "            new_agents = factory.create_agents(n_new_agents, self.rng)\n",
    "            agents += new_agents\n",
    "        self.agents = agents\n",
    "\n",
    "        # Max history amount\n",
    "        self.MAX_HISTORY = max_history\n",
    "\n",
    "        self._reset_game_state()\n",
    "\n",
    "    def _reset_agents_strategies(self):\n",
    "        \"\"\"Reset the strategies of each agent.\"\"\"\n",
    "        for agent in self.agents:\n",
    "            agent.reset_strategies()\n",
    "\n",
    "    def _reset_game_state(self):\n",
    "        \"\"\"\n",
    "        Resets the agents history (current memory of each agent), strategies\n",
    "        and strategy scores.\n",
    "        \"\"\"\n",
    "        self.history = 2*self.rng.integers(2, size=self.MAX_HISTORY)-1\n",
    "\n",
    "        self._reset_agents_strategies()\n",
    "\n",
    "        for agent in self.agents:\n",
    "            agent.reset_strategy_scores()\n",
    "\n",
    "    def _update_scores_and_history(self, A_t: int, actions: List[int]):\n",
    "        \"\"\"\n",
    "        Compute the round winner, update history and strategy scores for each\n",
    "        agent by mu_t\n",
    "\n",
    "        Args:\n",
    "            A_t (int): the attendance (sum of actions of each agent)\n",
    "            mu_t (int): number whose binary representation encodes the current\n",
    "                        history, used to index the agent's strategy\n",
    "        \"\"\"\n",
    "        # Get the minority (round winner)\n",
    "        round_winner = -1 if A_t > 0 else 1\n",
    "\n",
    "        # For each agent update his strategy scores\n",
    "        for i, agent in enumerate(self.agents):\n",
    "            agent_action = actions[i]\n",
    "            agent.update_scores(\n",
    "                round_winner,\n",
    "                agent_action,\n",
    "                self.history\n",
    "            )\n",
    "\n",
    "        # Update history\n",
    "        # Roll the current history to the left by one\n",
    "        # [1, -1, 1] -> [-1, 1, 1]\n",
    "        self.history = np.roll(self.history, -1)\n",
    "        # Replace the last element with the current round winner\n",
    "        self.history[-1] = round_winner\n",
    "\n",
    "    def _game_step(self):\n",
    "        \"\"\"Runs a simulation of one round of MG.\"\"\"\n",
    "        # The actions of each agent during this round\n",
    "        actions = np.zeros(self.n_agents)\n",
    "\n",
    "        # Find the best performing strategy of each agent\n",
    "        # by their strategy score and determine the action\n",
    "        # they want to take based on the game memory (history)\n",
    "        m_list = []\n",
    "        for i, agent in enumerate(self.agents):\n",
    "            a_t = agent.choose_action(self.history)\n",
    "            actions[i] = a_t\n",
    "            m_list.append(agent.m)\n",
    "            \n",
    "\n",
    "        # Get the attendance / sum of all actions\n",
    "        A_t = np.sum(actions)\n",
    "\n",
    "        # Update scores and history accordingly\n",
    "        self._update_scores_and_history(A_t, actions)\n",
    "        \n",
    "        return A_t, actions, m_list, \n",
    "\n",
    "    def volatility(self, A_t):\n",
    "        \"\"\"Compute the volatility / variance of A_t\n",
    "\n",
    "        Args:\n",
    "            A_t (np.array): a 1D array containing A_t values over\n",
    "                            multiple repetitions / time\n",
    "        \"\"\"\n",
    "        return A_t.var()\n",
    "\n",
    "    def total_success_rate(self, agent_cls=None):\n",
    "        \"\"\"\n",
    "        Compute total success rate by taking the mean of success\n",
    "        rates of each agent.\n",
    "\n",
    "        Args:\n",
    "            agent_cls: the filter class to use while computing\n",
    "                       the total success rate. If None is used\n",
    "                       (default) the success rate is computed as\n",
    "                       the average between all agents.\n",
    "        \"\"\"\n",
    "        succes_rates = np.zeros(len(self.agents))\n",
    "        for i, agent in enumerate(self.agents):\n",
    "            if agent_cls is not None:\n",
    "                if not isinstance(agent, agent_cls):\n",
    "                    continue\n",
    "            succes_rates[i] = agent.success_rate()\n",
    "        return succes_rates.mean()\n",
    "\n",
    "    def simulate_game(self, max_steps=500):\n",
    "        \"\"\"Simulate a Minority Game\n",
    "\n",
    "        Args:\n",
    "            max_steps (int): the maximum number of time steps this game is\n",
    "                             allowed to run for\n",
    "\n",
    "        Returns:\n",
    "            times (np.array): 1D array of timesteps, useful for plotting\n",
    "            attendances (np.array): 1D array of A_t for each time step\n",
    "            mean_A_t (np.array): 1D array of mean A_t over time\n",
    "            vol_A_t (np.array): 1D array of the variance of A_t over time\n",
    "        \"\"\"\n",
    "        self._reset_game_state()\n",
    "\n",
    "        times, attendances, mean_A_t, vol_A_t, = np.zeros((4, max_steps))\n",
    "        times_list = []\n",
    "        \n",
    "        mean_A_t_individual_m = []\n",
    "        vol_A_t_individual_m = []\n",
    "        actions_list = []\n",
    "        \n",
    "        A_t_table_list = pd.DataFrame()\n",
    "        A_t_table_list[\"index\"] = \"\"\n",
    "#         n_agents_m_list = pd.DataFrame()\n",
    "#         n_agents_m_list[\"index\"] = \"\"\n",
    "\n",
    "        # Run the game\n",
    "        for t in range(max_steps):\n",
    "            A_t, actions, m_list = self._game_step()\n",
    "\n",
    "            actions_list.append(actions)\n",
    "\n",
    "            actions_table = pd.DataFrame(actions_list, columns = m_list).transpose()\n",
    "            actions_table.reset_index(inplace=True)\n",
    "            \n",
    "            # Tables for the action sums and the number of agents for each m\n",
    "            A_t_table = actions_table.groupby(by=[\"index\"]).sum().transpose().sum()\n",
    "            A_t_table = pd.DataFrame(A_t_table)\n",
    "            # Count the number of agents for each m, (they are the same for each round so we can just take one)  \n",
    "            n_agents_m = actions_table.groupby('index')['index'].agg(['count'])\n",
    "            n_agents_m.reset_index(inplace = True)\n",
    "            \n",
    "            #Merge on the m (called index)\n",
    "            A_t_table_list = pd.merge(A_t_table_list, A_t_table, on='index', how='outer')\n",
    "#             n_agents_m_list = pd.merge(n_agents_m_list, n_agents_m, on='index', how='outer')\n",
    "            \n",
    "            # Save for plotting\n",
    "            times[t] = t\n",
    "            attendances[t] = A_t            \n",
    "        \n",
    "            # Take only the first t+1 attendances to avoid\n",
    "            # averaging over the entire max_steps\n",
    "            attendances_until_now = attendances[:t+1]\n",
    "            \n",
    "            A_t_table_until_now = A_t_table_list.transpose()\n",
    "            A_t_table_until_now.columns = A_t_table_until_now.iloc[0]\n",
    "            A_t_table_until_now = A_t_table_until_now[1:t+2]#the first row is the m-values\n",
    "\n",
    "            \n",
    "            mean_A_t[t] = attendances_until_now.mean()\n",
    "            vol_A_t[t] = self.volatility(attendances_until_now)\n",
    "            \n",
    "            mean_A_t_individual_m.append(A_t_table_until_now.mean())\n",
    "            vol_A_t_individual_m.append(A_t_table_until_now.var())\n",
    "            \n",
    "#             n_agents_m = n_agents_m_list['index']\n",
    "            \n",
    "            mean_A_t_individual_m_df = pd.DataFrame(mean_A_t_individual_m)\n",
    "#             mean_A_t_individual_m_df.columns =  n_agents_m#the m values as columns\n",
    "            vol_A_t_individual_m_df = pd.DataFrame(vol_A_t_individual_m)\n",
    "#             vol_A_t_individual_m_df.columns =  n_agents_m#the m values as column\n",
    "            \n",
    "        mean_A_t_individual_m_df = mean_A_t_individual_m_df.mean()\n",
    "        vol_A_t_individual_m_df = vol_A_t_individual_m_df.mean()\n",
    "\n",
    "        return times, attendances, mean_A_t_individual_m_df, A_t_table_list, n_agents_m, m_list\n"
   ]
  },
  {
   "cell_type": "code",
   "execution_count": 578,
   "metadata": {},
   "outputs": [
    {
     "name": "stdout",
     "output_type": "stream",
     "text": [
      "Wall time: 9.08 s\n"
     ]
    }
   ],
   "source": [
    "%%time\n",
    "n_agents = 101 # check with David why it does not work if I do MinorityGame.n_agents\n",
    "M = 7\n",
    "\n",
    "times, attendances, mean_A_t_individual_m_df, A_t_table_list, n_agents_m, m_list = MinorityGameIndividualAgents(\n",
    "    n_agents=101,\n",
    "    factory_dict={\n",
    "        1: AgentFactory(\n",
    "            Agent,\n",
    "            agent_kwargs=dict(\n",
    "                strategy_clss=[DefaultStrategy,DefaultStrategy]\n",
    "            ),\n",
    "            memory_generator=GumbelDistributionMemoryGenerator(M)\n",
    "        ),\n",
    "    }\n",
    ").simulate_game(max_steps=100)\n",
    "\n",
    "# m_list = n_agents_m_list.iloc[:, 0] \n",
    "# m_agent_counts = n_agents_m_list.iloc[:, 1] \n",
    "m_list = n_agents_m['index']\n",
    "\n",
    "# in order to create the graph\n",
    "tot_omega_g = np.average(vol_A_t_individual_m_df)/n_agents_m['count']\n",
    "tot_alpha_g =  2**m_list/n_agents_m['count']"
   ]
  },
  {
   "cell_type": "code",
   "execution_count": 581,
   "metadata": {},
   "outputs": [
    {
     "data": {
      "image/png": "[encoded data removed]",
      "text/plain": [
       "<Figure size 864x432 with 1 Axes>"
      ]
     },
     "metadata": {
      "needs_background": "light"
     },
     "output_type": "display_data"
    }
   ],
   "source": [
    "fig, ax = plt.subplots(figsize=(12, 6))\n",
    "\n",
    "ax.axhline(y=1, color=\"k\", linestyle=\"--\")\n",
    "ax.plot(tot_alpha_g, tot_omega_g, 'bo')\n",
    "ax.set_xlabel(\"Alpha = $2^m/N$\")\n",
    "ax.set_ylabel(\"Volatility\")\n",
    "\n",
    "plt.title(\"MG with heterogeneous memory, s=2, N=101\")\n",
    "plt.yscale('log')\n",
    "plt.xscale('log')\n",
    "plt.xlim([0.01,100])\n",
    "plt.ylim([0.1,100])\n",
    "\n",
    "plt.show()"
   ]
  },
  {
   "cell_type": "code",
   "execution_count": 582,
   "metadata": {},
   "outputs": [
    {
     "data": {
      "image/png": "[encoded data removed]",
      "text/plain": [
       "<Figure size 864x432 with 1 Axes>"
      ]
     },
     "metadata": {
      "needs_background": "light"
     },
     "output_type": "display_data"
    }
   ],
   "source": [
    "fig, ax = plt.subplots(figsize=(12, 6))\n",
    "\n",
    "ax.axhline(y=1, color=\"k\", linestyle=\"--\")\n",
    "ax.plot(m_list, tot_omega_g, 'bo')\n",
    "ax.set_xlabel(\"m\")\n",
    "ax.set_ylabel(\"Volatility\")\n",
    "\n",
    "plt.title(\"MG with heterogeneous memory, s=2, N=101\")\n",
    "plt.yscale('log')\n",
    "plt.xscale('log')\n",
    "plt.xlim([0.01,100])\n",
    "plt.ylim([0.1,100])\n",
    "\n",
    "plt.show()"
   ]
  },
  {
   "cell_type": "code",
   "execution_count": 589,
   "metadata": {},
   "outputs": [
    {
     "name": "stdout",
     "output_type": "stream",
     "text": [
      "Wall time: 9.34 s\n"
     ]
    }
   ],
   "source": [
    "%%time\n",
    "n_agents = 101 \n",
    "M = 7\n",
    "\n",
    "times, attendances, mean_A_t_individual_m_df, A_t_table_list, n_agents_m, m_list = MinorityGameIndividualAgents(\n",
    "    n_agents=101,\n",
    "    factory_dict={\n",
    "        1: AgentFactory(\n",
    "            Agent,\n",
    "            agent_kwargs=dict(\n",
    "                strategy_clss=[DefaultStrategy,DefaultStrategy]\n",
    "            ),\n",
    "            memory_generator=GumbelDistributionMemoryGenerator(M)\n",
    "        ),\n",
    "    }\n",
    ").simulate_game(max_steps=100)\n",
    "\n",
    "# m_list = n_agents_m_list.iloc[:, 0] \n",
    "# m_agent_counts = n_agents_m_list.iloc[:, 1] \n",
    "m_list_g = n_agents_m['index']\n",
    "\n",
    "# in order to create the graph\n",
    "tot_omega_g = np.average(vol_A_t_individual_m_df)/n_agents_m['count']\n",
    "tot_alpha_g =  2**m_list_g/n_agents_m['count']"
   ]
  },
  {
   "cell_type": "code",
   "execution_count": 611,
   "metadata": {},
   "outputs": [
    {
     "name": "stdout",
     "output_type": "stream",
     "text": [
      "Wall time: 9.28 s\n"
     ]
    }
   ],
   "source": [
    "%%time\n",
    "n_agents = 101\n",
    "M = 7\n",
    "\n",
    "times, attendances, mean_A_t_individual_m_df, A_t_table_list, n_agents_m, m_list = MinorityGameIndividualAgents(\n",
    "    n_agents=101,\n",
    "    factory_dict={\n",
    "        1: AgentFactory(\n",
    "            Agent,\n",
    "            agent_kwargs=dict(\n",
    "                strategy_clss=[DefaultStrategy,DefaultStrategy]\n",
    "            ),\n",
    "            memory_generator=NormalDistributionMemoryGenerator(M)\n",
    "        ),\n",
    "    }\n",
    ").simulate_game(max_steps=100)\n",
    "\n",
    "# m_list = n_agents_m_list.iloc[:, 0] \n",
    "# m_agent_counts = n_agents_m_list.iloc[:, 1] \n",
    "m_list_n = n_agents_m['index']\n",
    "\n",
    "# in order to create the graph\n",
    "tot_omega_n = np.average(vol_A_t_individual_m_df)/n_agents_m['count']\n",
    "tot_alpha_n =  2**m_list_n/n_agents_m['count']"
   ]
  },
  {
   "cell_type": "code",
   "execution_count": 612,
   "metadata": {},
   "outputs": [
    {
     "name": "stdout",
     "output_type": "stream",
     "text": [
      "Wall time: 9.08 s\n"
     ]
    }
   ],
   "source": [
    "%%time\n",
    "n_agents = 101 \n",
    "M = 7\n",
    "\n",
    "times, attendances, mean_A_t_individual_m_df, A_t_table_list, n_agents_m, m_list= MinorityGameIndividualAgents(\n",
    "    n_agents=101,\n",
    "    factory_dict={\n",
    "        1: AgentFactory(\n",
    "            Agent,\n",
    "            agent_kwargs=dict(\n",
    "                strategy_clss=[DefaultStrategy,DefaultStrategy]\n",
    "            ),\n",
    "            memory_generator=UniformMemoryGenerator(M)\n",
    "        ),\n",
    "    }\n",
    ").simulate_game(max_steps=100)\n",
    "\n",
    "# m_list = n_agents_m_list.iloc[:, 0] \n",
    "# m_agent_counts = n_agents_m_list.iloc[:, 1] \n",
    "m_list_u = n_agents_m['index']\n",
    "\n",
    "# in order to create the graph\n",
    "tot_omega_u = np.average(vol_A_t_individual_m_df)/n_agents_m['count']\n",
    "tot_alpha_u =  2**m_list_u/n_agents_m['count']"
   ]
  },
  {
   "cell_type": "code",
   "execution_count": 613,
   "metadata": {},
   "outputs": [
    {
     "data": {
      "image/png": "[encoded data removed]",
      "text/plain": [
       "<Figure size 864x432 with 1 Axes>"
      ]
     },
     "metadata": {
      "needs_background": "light"
     },
     "output_type": "display_data"
    }
   ],
   "source": [
    "# everything in one graph m instead of alpha\n",
    "\n",
    "fig, ax = plt.subplots(figsize=(12, 6))\n",
    "\n",
    "ax.axhline(y=1, color=\"k\", linestyle=\"--\") # vol = 1 -> randomness\n",
    "\n",
    "ax.plot(m_list_u, tot_omega_u, '>r')\n",
    "ax.plot(m_list_g, tot_omega_g, 'bo')\n",
    "ax.plot(m_list_n, tot_omega_n, 'Dy')\n",
    "\n",
    "ax.set_xlabel(\"m\")\n",
    "ax.set_ylabel(\"Volatility $\\sigma^2/N$\")\n",
    "ax.legend([\"randomness\",\"Uniform Distribution (simple MG)\",\"Gumbel Distribution\", \"Normal Distribution\"])\n",
    "\n",
    "plt.title(\"Volatilty as a function of alpha (MG with s=2, N=101)\")\n",
    "plt.yscale('log')\n",
    "plt.xscale('log')\n",
    "plt.xlim([0.01,1000])\n",
    "plt.ylim([0.1,1000])\n",
    "\n",
    "plt.show()"
   ]
  },
  {
   "cell_type": "code",
   "execution_count": 614,
   "metadata": {},
   "outputs": [
    {
     "data": {
      "image/png": "[encoded data removed]",
      "text/plain": [
       "<Figure size 864x432 with 1 Axes>"
      ]
     },
     "metadata": {
      "needs_background": "light"
     },
     "output_type": "display_data"
    }
   ],
   "source": [
    "# everything in one graph\n",
    "\n",
    "fig, ax = plt.subplots(figsize=(12, 6))\n",
    "\n",
    "ax.axhline(y=1, color=\"k\", linestyle=\"--\") # vol = 1 -> randomness\n",
    "\n",
    "ax.plot(tot_alpha_u, tot_omega_u, '>r')\n",
    "ax.plot(tot_alpha_g, tot_omega_g, 'bo')\n",
    "ax.plot(tot_alpha_n, tot_omega_n, 'Dy')\n",
    "\n",
    "ax.set_xlabel(\"Alpha = $2^m/N$\")\n",
    "ax.set_ylabel(\"Volatility $\\sigma^2/N$\")\n",
    "ax.legend([\"randomness\",\"Uniform Distribution (simple MG)\",\"Gumbel Distribution\", \"Normal Distribution\"])\n",
    "\n",
    "plt.title(\"Volatilty as a function of alpha (MG with s=2, N=101)\")\n",
    "plt.yscale('log')\n",
    "plt.xscale('log')\n",
    "plt.xlim([0.01,1000])\n",
    "plt.ylim([0.1,1000])\n",
    "\n",
    "plt.show()"
   ]
  },
  {
   "cell_type": "markdown",
   "metadata": {},
   "source": [
    "Uniform distribution from the standard model\n"
   ]
  },
  {
   "cell_type": "code",
   "execution_count": 608,
   "metadata": {},
   "outputs": [],
   "source": [
    "n_agents = 101 # check with David why it does not work if I do MinorityGame.n_agents\n",
    "tot_omega_u = []\n",
    "tot_alpha_u = []\n",
    "\n",
    "for M in range (2,10):\n",
    "    times, attendances, mean_A_t, vol_A_t = MinorityGame(\n",
    "        n_agents=101,\n",
    "        factory_dict={\n",
    "            1: AgentFactory(\n",
    "                Agent,\n",
    "                agent_kwargs=dict(\n",
    "                    strategy_clss=[DefaultStrategy,DefaultStrategy]\n",
    "                ),\n",
    "                memory_generator=UniformMemoryGenerator(M)\n",
    "            ),\n",
    "        }\n",
    "    ).simulate_game(max_steps=100)\n",
    "    # in order to create the graph\n",
    "    omega = np.average(vol_A_t)/n_agents\n",
    "    alpha = 2**M/n_agents\n",
    "    tot_omega_u.append(omega)\n",
    "    tot_alpha_u.append(alpha)"
   ]
  },
  {
   "cell_type": "code",
   "execution_count": 609,
   "metadata": {},
   "outputs": [
    {
     "data": {
      "image/png": "[encoded data removed]",
      "text/plain": [
       "<Figure size 864x432 with 1 Axes>"
      ]
     },
     "metadata": {
      "needs_background": "light"
     },
     "output_type": "display_data"
    }
   ],
   "source": [
    "# everything in one graph\n",
    "\n",
    "fig, ax = plt.subplots(figsize=(12, 6))\n",
    "\n",
    "ax.axhline(y=1, color=\"k\", linestyle=\"--\") # vol = 1 -> randomness\n",
    "\n",
    "ax.plot(tot_alpha_u, tot_omega_u, '>r')\n",
    "ax.plot(tot_alpha_g, tot_omega_g, 'bo')\n",
    "ax.plot(tot_alpha_n, tot_omega_n, 'Dy')\n",
    "\n",
    "ax.set_xlabel(\"Alpha = $2^m/N$\")\n",
    "ax.set_ylabel(\"Volatility $\\sigma^2/N$\")\n",
    "ax.legend([\"randomness\",\"Uniform Distribution (simple MG)\",\"Gumbel Distribution\", \"Normal Distribution\"])\n",
    "\n",
    "plt.title(\"Volatilty as a function of alpha (MG with s=2, N=101)\")\n",
    "plt.yscale('log')\n",
    "plt.xscale('log')\n",
    "plt.xlim([0.001,1000])\n",
    "plt.ylim([0.1,1000])\n",
    "\n",
    "plt.show()"
   ]
  }
 ],
 "metadata": {
  "kernelspec": {
   "display_name": "Python 3",
   "language": "python",
   "name": "python3"
  },
  "language_info": {
   "codemirror_mode": {
    "name": "ipython",
    "version": 3
   },
   "file_extension": ".py",
   "mimetype": "text/x-python",
   "name": "python",
   "nbconvert_exporter": "python",
   "pygments_lexer": "ipython3",
   "version": "3.9.4"
  }
 },
 "nbformat": 4,
 "nbformat_minor": 2
}
