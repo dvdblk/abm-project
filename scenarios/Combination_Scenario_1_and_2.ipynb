{
 "cells": [
  {
   "cell_type": "markdown",
   "metadata": {},
   "source": [
    "**Make sure to include** `import allow_local_imports` on top of every notebook in `notebooks/` dir to be able to use `lib/` modules."
   ]
  },
  {
   "cell_type": "code",
   "execution_count": 1,
   "metadata": {},
   "outputs": [],
   "source": [
    "# Include this on top, as the first import \n",
    "# This must always be imported first. If you are restarting the notebook\n",
    "# don't forget to run this cell first!\n",
    "import allow_local_imports"
   ]
  },
  {
   "cell_type": "code",
   "execution_count": 2,
   "metadata": {},
   "outputs": [],
   "source": [
    "from lib.minority_game import MinorityGame\n",
    "from lib.agents.agent import Agent, StrategyUpdatingAgent\n",
    "from lib.agents.factory import AgentFactory\n",
    "from lib.strategies import AlwaysOneStrategy, DefaultStrategy, FiftyFiftyStrategy\n",
    "from lib.memory import UniformMemoryGenerator\n",
    "from lib.plots import default_plot"
   ]
  },
  {
   "cell_type": "code",
   "execution_count": 3,
   "metadata": {},
   "outputs": [],
   "source": [
    "import numpy as np\n",
    "import matplotlib.pyplot as plt\n",
    "from scipy.stats import norm, gamma\n",
    "import seaborn as sns\n",
    "from numpy.random import default_rng"
   ]
  },
  {
   "cell_type": "code",
   "execution_count": 4,
   "metadata": {},
   "outputs": [],
   "source": [
    "class BaseMemoryGenerator:\n",
    "    \"\"\"\n",
    "    Abstract class that should be subclassed when implementing\n",
    "    a new memory generator.\n",
    "    \"\"\"\n",
    "    def __init__(self, m):\n",
    "        self.m = m\n",
    "\n",
    "    def generate(self, size):\n",
    "        raise NotImplementedError\n",
    "\n",
    "\n",
    "class UniformMemoryGenerator(BaseMemoryGenerator):\n",
    "    \"\"\"\n",
    "    Samples memory from a uniform distribution.\n",
    "    (All memories are of equal length...)\n",
    "    \"\"\"\n",
    "\n",
    "    def generate(self, size):\n",
    "        return np.ones(size, dtype=np.int32) * self.m\n",
    "    \n",
    "class NormalDistributionMemoryGenerator(BaseMemoryGenerator):\n",
    "    \"\"\"\n",
    "    Samples memory from a distribution\n",
    "    (Memories are distributed by normal distribution.)\n",
    "    \"\"\"\n",
    "\n",
    "    def generate(self, size):\n",
    "        rng = default_rng(0)\n",
    "        return rng.normal(self.m, 0.5, size).astype(int)\n",
    "    \n",
    "class GaussianDistributionMemoryGenerator(BaseMemoryGenerator):\n",
    "    \"\"\"\n",
    "    Samples memory from a distribution\n",
    "    (Memories are distributed by default gaussian distribution.)\n",
    "    \"\"\"\n",
    "\n",
    "    def generate(self, n_agents, min_m = 1, max_m = 20, a = 4):\n",
    "        spaces = max_m-min_m+1\n",
    "        x = np.linspace(min_m, max_m, spaces)\n",
    "        y =  gamma.pdf(x, a)\n",
    "        sample = np.random.choice(x, n_agents, p=y/(sum(y))).astype(int)\n",
    "        return sample\n",
    "\n",
    "class GumbelDistributionMemoryGenerator(BaseMemoryGenerator):\n",
    "    \"\"\"\n",
    "    Samples memory from a gumbel distribution.\n",
    "    (Skwed distribution of memory)\n",
    "    \"\"\"\n",
    "\n",
    "    def generate(self, size):\n",
    "        rng = default_rng(0)\n",
    "        return rng.gumbel(self.m, 0.5, size).astype(int)   "
   ]
  },
  {
   "cell_type": "markdown",
   "metadata": {},
   "source": [
    "## Simple MG (s = 2, N = 101, uniform memory)"
   ]
  },
  {
   "cell_type": "code",
   "execution_count": 6,
   "metadata": {},
   "outputs": [
    {
     "name": "stdout",
     "output_type": "stream",
     "text": [
      "CPU times: user 16min 1s, sys: 3.97 s, total: 16min 5s\n",
      "Wall time: 16min 7s\n"
     ]
    }
   ],
   "source": [
    "%%time\n",
    "\n",
    "n_agents = 101 # check with David why it does not work if I do MinorityGame.n_agents\n",
    "tot_omega_u = []\n",
    "tot_alpha_u = []\n",
    "\n",
    "for M in range (2,10):\n",
    "    times, attendances, mean_A_t, vol_A_t = MinorityGame(\n",
    "        n_agents=101,\n",
    "        factory_dict={\n",
    "            1: AgentFactory(\n",
    "                Agent,\n",
    "                agent_kwargs=dict(\n",
    "                    strategy_clss=[DefaultStrategy,DefaultStrategy]\n",
    "                ),\n",
    "                memory_generator=UniformMemoryGenerator(M)\n",
    "            ),\n",
    "        }\n",
    "    ).simulate_game(max_steps=50000)\n",
    "    # in order to create the graph\n",
    "    omega = np.average(vol_A_t)/n_agents\n",
    "    alpha = 2**M/n_agents\n",
    "    tot_omega_u.append(omega)\n",
    "    tot_alpha_u.append(alpha)"
   ]
  },
  {
   "cell_type": "code",
   "execution_count": 7,
   "metadata": {},
   "outputs": [
    {
     "data": {
      "image/png": "[encoded data removed]",
      "text/plain": [
       "<Figure size 864x432 with 1 Axes>"
      ]
     },
     "metadata": {
      "needs_background": "light"
     },
     "output_type": "display_data"
    }
   ],
   "source": [
    "fig, ax = plt.subplots(figsize=(12, 6))\n",
    "\n",
    "ax.axhline(y=1, color=\"k\", linestyle=\"--\")\n",
    "ax.plot(tot_alpha_u, tot_omega_u, 'bo')\n",
    "ax.set_xlabel(\"Alpha = $2^m/N$\")\n",
    "ax.set_ylabel(\"Volatility\")\n",
    "\n",
    "plt.title(\"Simple Minority Game with s=2, N=101\")\n",
    "plt.yscale('log')\n",
    "plt.xscale('log')\n",
    "plt.xlim([0.01,100])\n",
    "plt.ylim([0.1,100])\n",
    "\n",
    "plt.show()"
   ]
  },
  {
   "cell_type": "markdown",
   "metadata": {},
   "source": [
    "## MG (s = 2, N = 101, gumbel distribution memory scale = 0.5)"
   ]
  },
  {
   "cell_type": "code",
   "execution_count": 8,
   "metadata": {},
   "outputs": [
    {
     "name": "stderr",
     "output_type": "stream",
     "text": [
      "/Users/Luca/opt/anaconda3/envs/py39/lib/python3.9/site-packages/seaborn/_decorators.py:36: FutureWarning: Pass the following variables as keyword args: x, y. From version 0.12, the only valid positional argument will be `data`, and passing other arguments without an explicit keyword will result in an error or misinterpretation.\n",
      "  warnings.warn(\n"
     ]
    },
    {
     "data": {
      "image/png": "[encoded data removed]",
      "text/plain": [
       "<Figure size 432x288 with 1 Axes>"
      ]
     },
     "metadata": {
      "needs_background": "light"
     },
     "output_type": "display_data"
    }
   ],
   "source": [
    "# a possible distribution \n",
    "rng = default_rng(0)\n",
    "m = 3\n",
    "\n",
    "n_agents = 101\n",
    "\n",
    "a = rng.gumbel(m, 0.5, n_agents).astype(int)+1 # m is the mode , 1 is the scale (how narrow it is), n_agents is the size\n",
    "\n",
    "# Numpy arrays containing counts for each side\n",
    "side, count = np.unique(a, return_counts=True)\n",
    "\n",
    "# Plot the results\n",
    "sns.barplot(side, count)\n",
    "plt.title(\n",
    "    f\"Gumbel distribution of the memory ({n_agents} agents, scale = 0.5)\")\n",
    "plt.ylabel(\"Count\")\n",
    "plt.xlabel(\"m\")\n",
    "plt.show()"
   ]
  },
  {
   "cell_type": "code",
   "execution_count": 9,
   "metadata": {},
   "outputs": [
    {
     "name": "stdout",
     "output_type": "stream",
     "text": [
      "CPU times: user 16min 48s, sys: 4.03 s, total: 16min 52s\n",
      "Wall time: 16min 54s\n"
     ]
    }
   ],
   "source": [
    "%%time\n",
    "\n",
    "n_agents = 101 # check with David why it does not work if I do MinorityGame.n_agents\n",
    "tot_omega_g = []\n",
    "tot_alpha_g = []\n",
    "\n",
    "for M in range (2,10):\n",
    "    times, attendances, mean_A_t, vol_A_t = MinorityGame(\n",
    "        n_agents=101,\n",
    "        factory_dict={\n",
    "            1: AgentFactory(\n",
    "                Agent,\n",
    "                agent_kwargs=dict(\n",
    "                    strategy_clss=[DefaultStrategy,DefaultStrategy]\n",
    "                ),\n",
    "                memory_generator=GumbelDistributionMemoryGenerator(M)\n",
    "            ),\n",
    "        }\n",
    "    ).simulate_game(max_steps=50000)\n",
    "    # in order to create the graph\n",
    "    omega = np.average(vol_A_t)/n_agents\n",
    "    alpha = 2**M/n_agents\n",
    "    tot_omega_g.append(omega)\n",
    "    tot_alpha_g.append(alpha)"
   ]
  },
  {
   "cell_type": "code",
   "execution_count": 10,
   "metadata": {},
   "outputs": [
    {
     "data": {
      "image/png": "[encoded data removed]",
      "text/plain": [
       "<Figure size 864x432 with 1 Axes>"
      ]
     },
     "metadata": {
      "needs_background": "light"
     },
     "output_type": "display_data"
    }
   ],
   "source": [
    "fig, ax = plt.subplots(figsize=(12, 6))\n",
    "\n",
    "ax.axhline(y=1, color=\"k\", linestyle=\"--\")\n",
    "ax.plot(tot_alpha_g, tot_omega_g, 'bo')\n",
    "ax.set_xlabel(\"Alpha = $2^m/N$\")\n",
    "ax.set_ylabel(\"Volatility\")\n",
    "\n",
    "plt.title(\"MG with heterogeneous memory, s=2, N=101\")\n",
    "plt.yscale('log')\n",
    "plt.xscale('log')\n",
    "plt.xlim([0.01,100])\n",
    "plt.ylim([0.1,100])\n",
    "\n",
    "plt.show()"
   ]
  },
  {
   "cell_type": "markdown",
   "metadata": {},
   "source": [
    "## 80/20 with updating strategy"
   ]
  },
  {
   "cell_type": "code",
   "execution_count": 11,
   "metadata": {},
   "outputs": [
    {
     "name": "stdout",
     "output_type": "stream",
     "text": [
      "CPU times: user 18min 14s, sys: 4.12 s, total: 18min 18s\n",
      "Wall time: 18min 21s\n"
     ]
    }
   ],
   "source": [
    "%%time\n",
    "\n",
    "n_agents = 101 # check with David why it does not work if I do MinorityGame.n_agents\n",
    "tot_omega_80_20 = []\n",
    "tot_alpha_80_20 = []\n",
    "\n",
    "for M in range (2,10):\n",
    "    times, attendances, mean_A_t, vol_A_t = MinorityGame(\n",
    "        n_agents=101,\n",
    "        factory_dict={\n",
    "            0.8: AgentFactory(\n",
    "                Agent,\n",
    "                agent_kwargs=dict(strategy_clss=[DefaultStrategy, DefaultStrategy]),\n",
    "                memory_generator=UniformMemoryGenerator(M)\n",
    "            ),\n",
    "            0.2: AgentFactory(\n",
    "                StrategyUpdatingAgent,\n",
    "                agent_kwargs=dict(\n",
    "                    strategy_clss=[DefaultStrategy, DefaultStrategy],\n",
    "                    strategy_update_rate=0.1\n",
    "                ),\n",
    "                memory_generator=UniformMemoryGenerator(M)\n",
    "            ),\n",
    "        }\n",
    "    ).simulate_game(max_steps=50000)\n",
    "    # in order to create the graph\n",
    "    omega = np.average(vol_A_t)/n_agents\n",
    "    alpha = 2**M/n_agents\n",
    "    tot_omega_80_20.append(omega)\n",
    "    tot_alpha_80_20.append(alpha)"
   ]
  },
  {
   "cell_type": "code",
   "execution_count": 12,
   "metadata": {},
   "outputs": [
    {
     "data": {
      "image/png": "[encoded data removed]",
      "text/plain": [
       "<Figure size 864x432 with 1 Axes>"
      ]
     },
     "metadata": {
      "needs_background": "light"
     },
     "output_type": "display_data"
    }
   ],
   "source": [
    "fig, ax = plt.subplots(figsize=(12, 6))\n",
    "\n",
    "ax.axhline(y=1, color=\"k\", linestyle=\"--\")\n",
    "ax.plot(tot_alpha_80_20, tot_omega_80_20, 'bo')\n",
    "ax.set_xlabel(\"Alpha = $2^m/N$\")\n",
    "ax.set_ylabel(\"Volatility\")\n",
    "\n",
    "plt.title(\"Minority Game with s=2, N=101, 20% of agents with p = 0.1\")\n",
    "plt.yscale('log')\n",
    "plt.xscale('log')\n",
    "plt.xlim([0.01,100])\n",
    "plt.ylim([0.1,100])\n",
    "\n",
    "plt.show()"
   ]
  },
  {
   "cell_type": "markdown",
   "metadata": {},
   "source": [
    "## Combined"
   ]
  },
  {
   "cell_type": "code",
   "execution_count": 13,
   "metadata": {},
   "outputs": [
    {
     "name": "stdout",
     "output_type": "stream",
     "text": [
      "CPU times: user 18min 29s, sys: 4.17 s, total: 18min 33s\n",
      "Wall time: 18min 35s\n"
     ]
    }
   ],
   "source": [
    "%%time\n",
    "\n",
    "n_agents = 101 # check with David why it does not work if I do MinorityGame.n_agents\n",
    "tot_omega_c = []\n",
    "tot_alpha_c = []\n",
    "\n",
    "for M in range (2,10):\n",
    "    times, attendances, mean_A_t, vol_A_t = MinorityGame(\n",
    "        n_agents=101,\n",
    "        factory_dict={\n",
    "            0.8: AgentFactory(\n",
    "                Agent,\n",
    "                agent_kwargs=dict(strategy_clss=[DefaultStrategy, DefaultStrategy]),\n",
    "                memory_generator=GumbelDistributionMemoryGenerator(M)\n",
    "            ),\n",
    "            0.2: AgentFactory(\n",
    "                StrategyUpdatingAgent,\n",
    "                agent_kwargs=dict(\n",
    "                    strategy_clss=[DefaultStrategy, DefaultStrategy],\n",
    "                    strategy_update_rate=0.1\n",
    "                ),\n",
    "                memory_generator=GumbelDistributionMemoryGenerator(M)\n",
    "            ),\n",
    "        }\n",
    "    ).simulate_game(max_steps=50000)\n",
    "    # in order to create the graph\n",
    "    omega = np.average(vol_A_t)/n_agents\n",
    "    alpha = 2**M/n_agents\n",
    "    tot_omega_c.append(omega)\n",
    "    tot_alpha_c.append(alpha)"
   ]
  },
  {
   "cell_type": "code",
   "execution_count": 14,
   "metadata": {},
   "outputs": [
    {
     "data": {
      "image/png": "[encoded data removed]",
      "text/plain": [
       "<Figure size 864x432 with 1 Axes>"
      ]
     },
     "metadata": {
      "needs_background": "light"
     },
     "output_type": "display_data"
    }
   ],
   "source": [
    "fig, ax = plt.subplots(figsize=(12, 6))\n",
    "\n",
    "ax.axhline(y=1, color=\"k\", linestyle=\"--\")\n",
    "ax.plot(tot_alpha_c, tot_omega_c, 'bo')\n",
    "ax.set_xlabel(\"Alpha = $2^m/N$\")\n",
    "ax.set_ylabel(\"Volatility\")\n",
    "\n",
    "plt.title(\"MG with heterogeneous memory, s=2, N=101\")\n",
    "plt.yscale('log')\n",
    "plt.xscale('log')\n",
    "plt.xlim([0.01,100])\n",
    "plt.ylim([0.1,100])\n",
    "\n",
    "plt.show()"
   ]
  },
  {
   "cell_type": "markdown",
   "metadata": {},
   "source": [
    "## Everything in one graph"
   ]
  },
  {
   "cell_type": "code",
   "execution_count": 16,
   "metadata": {
    "scrolled": false
   },
   "outputs": [
    {
     "data": {
      "image/png": "[encoded data removed]",
      "text/plain": [
       "<Figure size 1440x576 with 1 Axes>"
      ]
     },
     "metadata": {
      "needs_background": "light"
     },
     "output_type": "display_data"
    }
   ],
   "source": [
    "# everything in one graph\n",
    "\n",
    "fig, ax = plt.subplots(figsize=(20, 8))\n",
    "\n",
    "ax.axhline(y=1, color=\"k\", linestyle=\"--\") # vol = 1 -> randomness\n",
    "\n",
    "ax.plot(tot_alpha_u, tot_omega_u, '>r')\n",
    "ax.plot(tot_alpha_g, tot_omega_g, 'bo')\n",
    "ax.plot(tot_alpha_80_20, tot_omega_80_20, 'sc')\n",
    "ax.plot(tot_alpha_c, tot_omega_c, 'Dy')\n",
    "\n",
    "ax.set_xlabel(r\"Alpha $\\alpha = 2^m/N$\", fontsize=15)\n",
    "ax.set_ylabel(\"Volatility $\\sigma^2/N$\", fontsize=15)\n",
    "ax.legend([\"randomness\",\n",
    "           \"Uniform Distribution (simple MG)\",\n",
    "           \"Gumbel Distribution\", \n",
    "           \"80% p = 0, 20% p = 0.1 \", \n",
    "           \"Gumbel + 80/20 ratio\"])\n",
    "\n",
    "#plt.title(\"Volatilty as a function of alpha (MG with s=2, N=101)\")\n",
    "plt.yscale('log')\n",
    "plt.xscale('log')\n",
    "plt.xlim([0.01,100])\n",
    "plt.ylim([0.1,100])\n",
    "\n",
    "plt.savefig(\"out/scenario_combined.png\", dpi = 300)\n",
    "plt.show()"
   ]
  }
 ],
 "metadata": {
  "kernelspec": {
   "display_name": "Python 3",
   "language": "python",
   "name": "python3"
  },
  "language_info": {
   "codemirror_mode": {
    "name": "ipython",
    "version": 3
   },
   "file_extension": ".py",
   "mimetype": "text/x-python",
   "name": "python",
   "nbconvert_exporter": "python",
   "pygments_lexer": "ipython3",
   "version": "3.9.5"
  }
 },
 "nbformat": 4,
 "nbformat_minor": 2
}
